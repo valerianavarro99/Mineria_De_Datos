{
 "cells": [
  {
   "cell_type": "markdown",
   "metadata": {},
   "source": [
    "$$Ejercicios 1$$"
   ]
  },
  {
   "cell_type": "markdown",
   "metadata": {},
   "source": [
    "Mariann Adaliz Avila Rios...............1811303  \n",
    "Arturo del Ángel de la Cruz............1809895  \n",
    "Valeria Nohemí Navarro Cabello....1820160  \n",
    "Magaly Rivera Valdez.....................1823340  \n",
    "Sofía Pamela Rosales Garza.........1799219"
   ]
  },
  {
   "cell_type": "markdown",
   "metadata": {},
   "source": [
    "Regresión lineal"
   ]
  },
  {
   "cell_type": "markdown",
   "metadata": {},
   "source": [
    "1. Tomando los datos de la tabla sobre los pesos y alturas de una población de 30 personas, crea una gráfica donde el valor $x$ represente la altura y el valor $y$ represente el peso. Después traza una línea que se apegue lo más posible a los datos que graficaste."
   ]
  },
  {
   "cell_type": "code",
   "execution_count": 90,
   "metadata": {},
   "outputs": [],
   "source": [
    "datos_x = [162, 212, 220, 206, 152, 183, 167, 175, 156, 186, 183, 163, 163, 172, 194,\n",
    "           168, 161, 164, 188, 187, 162, 192, 184, 206, 175, 154, 187, 212, 195, 205]\n",
    "datos_y = [68.78, 74.11, 71.73, 69.88, 67.25, 68.78, 68.34, 67.01, 63.45, 71.19, 67.19, 65.80, 64.30, 67.97, 72.18,\n",
    "           65.27, 66.09, 67.51, 70.10, 68.25, 67.89, 68.14, 69.08, 72.80, 67.42, 68.49, 68.61, 74.03, 71.52, 69.18]"
   ]
  },
  {
   "cell_type": "code",
   "execution_count": 91,
   "metadata": {},
   "outputs": [],
   "source": [
    "import matplotlib.pyplot as plt"
   ]
  },
  {
   "cell_type": "code",
   "execution_count": 92,
   "metadata": {},
   "outputs": [
    {
     "data": {
      "image/png": "[encoded data removed]",
      "text/plain": [
       "<Figure size 432x288 with 1 Axes>"
      ]
     },
     "metadata": {
      "needs_background": "light"
     },
     "output_type": "display_data"
    }
   ],
   "source": [
    "plt.scatter(x=datos_x , y=datos_y, marker='o', c='black', s=5)\n",
    "plt.title(\"Gráfico de puntos y estimación de la recta de regresión simple\")\n",
    "plt.xlabel(\"Altura\")\n",
    "plt.ylabel(\"Peso\")\n",
    "plt.show()"
   ]
  },
  {
   "cell_type": "code",
   "execution_count": 93,
   "metadata": {},
   "outputs": [],
   "source": [
    "import numpy as np"
   ]
  },
  {
   "cell_type": "code",
   "execution_count": 94,
   "metadata": {},
   "outputs": [],
   "source": [
    "array_x = np.array(datos_x)\n",
    "array_y = np.array(datos_y)"
   ]
  },
  {
   "cell_type": "code",
   "execution_count": 95,
   "metadata": {},
   "outputs": [],
   "source": [
    "n = len(array_x)\n",
    "sum_x = sum(array_x)\n",
    "sum_y = sum(array_y)\n",
    "sum_xy = sum(array_x*array_y)\n",
    "sum_xx = sum(array_x*array_x)"
   ]
  },
  {
   "cell_type": "code",
   "execution_count": 96,
   "metadata": {},
   "outputs": [],
   "source": [
    "s_xy = sum_xy-(1/n)*sum_x*sum_y\n",
    "s_xx = sum_xx-(1/n)*sum_x**2"
   ]
  },
  {
   "cell_type": "code",
   "execution_count": 97,
   "metadata": {},
   "outputs": [],
   "source": [
    "beta_1 = s_xy / s_xx\n",
    "beta_0 = (1/n)*sum_y - beta_1*(1/n)*sum_x"
   ]
  },
  {
   "cell_type": "code",
   "execution_count": 98,
   "metadata": {},
   "outputs": [
    {
     "name": "stdout",
     "output_type": "stream",
     "text": [
      "La estimación de los parámetros para el modelo de regresión son: \n",
      "beta1:  0.1086107819535774\n",
      "beta0:  49.07163369547534\n"
     ]
    }
   ],
   "source": [
    "print(\"La estimación de los parámetros para el modelo de regresión son: \")\n",
    "print(\"beta1: \",(beta_1))\n",
    "print(\"beta0: \",(beta_0))"
   ]
  },
  {
   "cell_type": "code",
   "execution_count": 99,
   "metadata": {},
   "outputs": [
    {
     "data": {
      "image/png": "[encoded data removed]",
      "text/plain": [
       "<Figure size 432x288 with 1 Axes>"
      ]
     },
     "metadata": {
      "needs_background": "light"
     },
     "output_type": "display_data"
    }
   ],
   "source": [
    "plt.scatter(x=datos_x , y=datos_y, marker='o', c='black', s=5)\n",
    "plt.plot(array_x, beta_0 + beta_1 * array_x, '-', c='red')\n",
    "plt.title(\"Gráfico de puntos y estimación de la recta de regresión simple\")\n",
    "plt.xlabel(\"Altura\")\n",
    "plt.ylabel(\"Peso\")\n",
    "plt.show()"
   ]
  },
  {
   "cell_type": "markdown",
   "metadata": {},
   "source": [
    "Reglas de asociación"
   ]
  },
  {
   "cell_type": "markdown",
   "metadata": {},
   "source": [
    "2. Observa la tabla que se describe a continuación. Utilizando el agoritmo a priori, y la técnica de asociación, realiza la tabla de relaciones y resuelve cuál es el nivel K de soporte más alto al que podemos llegar teniendo un umbral de 0.5."
   ]
  },
  {
   "cell_type": "code",
   "execution_count": 100,
   "metadata": {},
   "outputs": [
    {
     "name": "stdout",
     "output_type": "stream",
     "text": [
      "Requirement already satisfied: apyori in c:\\users\\sofpr\\anaconda3\\lib\\site-packages (1.1.2)\n",
      "Note: you may need to restart the kernel to use updated packages.\n"
     ]
    }
   ],
   "source": [
    "pip install apyori"
   ]
  },
  {
   "cell_type": "code",
   "execution_count": 101,
   "metadata": {},
   "outputs": [],
   "source": [
    "import numpy as np\n",
    "import pandas as pd\n",
    "import matplotlib.pyplot as plt\n",
    "from apyori import apriori"
   ]
  },
  {
   "cell_type": "code",
   "execution_count": 102,
   "metadata": {},
   "outputs": [],
   "source": [
    "datos = np.array(([\"A\",\"B\",\"C\",\"E\"], [\"B\",\"E\"], [\"C\",\"D\",\"E\"],[\"A\",\"C\",\"D\"],[\"A\",\"C\",\"E\"]))"
   ]
  },
  {
   "cell_type": "code",
   "execution_count": 103,
   "metadata": {},
   "outputs": [],
   "source": [
    "reglas = apriori(datos, min_support = 0.5, min_confidence = 0, min_lift = 0, min_length = 1)"
   ]
  },
  {
   "cell_type": "code",
   "execution_count": 104,
   "metadata": {},
   "outputs": [],
   "source": [
    "resultados = list(reglas)"
   ]
  },
  {
   "cell_type": "code",
   "execution_count": 105,
   "metadata": {},
   "outputs": [
    {
     "data": {
      "text/plain": [
       "[RelationRecord(items=frozenset({'A'}), support=0.6, ordered_statistics=[OrderedStatistic(items_base=frozenset(), items_add=frozenset({'A'}), confidence=0.6, lift=1.0)]),\n",
       " RelationRecord(items=frozenset({'C'}), support=0.8, ordered_statistics=[OrderedStatistic(items_base=frozenset(), items_add=frozenset({'C'}), confidence=0.8, lift=1.0)]),\n",
       " RelationRecord(items=frozenset({'E'}), support=0.8, ordered_statistics=[OrderedStatistic(items_base=frozenset(), items_add=frozenset({'E'}), confidence=0.8, lift=1.0)]),\n",
       " RelationRecord(items=frozenset({'A', 'C'}), support=0.6, ordered_statistics=[OrderedStatistic(items_base=frozenset(), items_add=frozenset({'A', 'C'}), confidence=0.6, lift=1.0), OrderedStatistic(items_base=frozenset({'A'}), items_add=frozenset({'C'}), confidence=1.0, lift=1.25), OrderedStatistic(items_base=frozenset({'C'}), items_add=frozenset({'A'}), confidence=0.7499999999999999, lift=1.2499999999999998)]),\n",
       " RelationRecord(items=frozenset({'E', 'C'}), support=0.6, ordered_statistics=[OrderedStatistic(items_base=frozenset(), items_add=frozenset({'E', 'C'}), confidence=0.6, lift=1.0), OrderedStatistic(items_base=frozenset({'C'}), items_add=frozenset({'E'}), confidence=0.7499999999999999, lift=0.9374999999999998), OrderedStatistic(items_base=frozenset({'E'}), items_add=frozenset({'C'}), confidence=0.7499999999999999, lift=0.9374999999999998)])]"
      ]
     },
     "execution_count": 105,
     "metadata": {},
     "output_type": "execute_result"
    }
   ],
   "source": [
    "resultados"
   ]
  },
  {
   "cell_type": "code",
   "execution_count": 106,
   "metadata": {},
   "outputs": [],
   "source": [
    "def inspect(resultados):    \n",
    "    rh          = [tuple(resultado[2][0][0]) for resultado in resultados]\n",
    "    lh          = [tuple(resultado[2][0][1]) for resultado in resultados]\n",
    "    soporte    = [resultado[1] for resultado in resultados]\n",
    "    confianza = [resultado[2][0][2] for resultado in resultados]\n",
    "    lift       = [resultado[2][0][3] for resultado in resultados]\n",
    "    return list(zip(rh, lh, soporte, confianza, lift))"
   ]
  },
  {
   "cell_type": "code",
   "execution_count": 107,
   "metadata": {},
   "outputs": [],
   "source": [
    "resultadoDataFrame = pd.DataFrame(inspect(resultados),\n",
    "                columns=['rhs','lhs','soporte','confianza','lift'])"
   ]
  },
  {
   "cell_type": "code",
   "execution_count": 108,
   "metadata": {},
   "outputs": [
    {
     "data": {
      "text/html": [
       "<div>\n",
       "<style scoped>\n",
       "    .dataframe tbody tr th:only-of-type {\n",
       "        vertical-align: middle;\n",
       "    }\n",
       "\n",
       "    .dataframe tbody tr th {\n",
       "        vertical-align: top;\n",
       "    }\n",
       "\n",
       "    .dataframe thead th {\n",
       "        text-align: right;\n",
       "    }\n",
       "</style>\n",
       "<table border=\"1\" class=\"dataframe\">\n",
       "  <thead>\n",
       "    <tr style=\"text-align: right;\">\n",
       "      <th></th>\n",
       "      <th>rhs</th>\n",
       "      <th>lhs</th>\n",
       "      <th>soporte</th>\n",
       "      <th>confianza</th>\n",
       "      <th>lift</th>\n",
       "    </tr>\n",
       "  </thead>\n",
       "  <tbody>\n",
       "    <tr>\n",
       "      <th>0</th>\n",
       "      <td>()</td>\n",
       "      <td>(A,)</td>\n",
       "      <td>0.6</td>\n",
       "      <td>0.6</td>\n",
       "      <td>1.0</td>\n",
       "    </tr>\n",
       "    <tr>\n",
       "      <th>1</th>\n",
       "      <td>()</td>\n",
       "      <td>(C,)</td>\n",
       "      <td>0.8</td>\n",
       "      <td>0.8</td>\n",
       "      <td>1.0</td>\n",
       "    </tr>\n",
       "    <tr>\n",
       "      <th>2</th>\n",
       "      <td>()</td>\n",
       "      <td>(E,)</td>\n",
       "      <td>0.8</td>\n",
       "      <td>0.8</td>\n",
       "      <td>1.0</td>\n",
       "    </tr>\n",
       "    <tr>\n",
       "      <th>3</th>\n",
       "      <td>()</td>\n",
       "      <td>(A, C)</td>\n",
       "      <td>0.6</td>\n",
       "      <td>0.6</td>\n",
       "      <td>1.0</td>\n",
       "    </tr>\n",
       "    <tr>\n",
       "      <th>4</th>\n",
       "      <td>()</td>\n",
       "      <td>(E, C)</td>\n",
       "      <td>0.6</td>\n",
       "      <td>0.6</td>\n",
       "      <td>1.0</td>\n",
       "    </tr>\n",
       "  </tbody>\n",
       "</table>\n",
       "</div>"
      ],
      "text/plain": [
       "  rhs     lhs  soporte  confianza  lift\n",
       "0  ()    (A,)      0.6        0.6   1.0\n",
       "1  ()    (C,)      0.8        0.8   1.0\n",
       "2  ()    (E,)      0.8        0.8   1.0\n",
       "3  ()  (A, C)      0.6        0.6   1.0\n",
       "4  ()  (E, C)      0.6        0.6   1.0"
      ]
     },
     "execution_count": 108,
     "metadata": {},
     "output_type": "execute_result"
    }
   ],
   "source": [
    "resultadoDataFrame"
   ]
  },
  {
   "cell_type": "markdown",
   "metadata": {},
   "source": [
    "Conclusión"
   ]
  },
  {
   "cell_type": "markdown",
   "metadata": {},
   "source": [
    "Los niveles de K de soporte más alto al que podemos llegar con estos datos teniendo un soporte mínimo de 0.5 es:"
   ]
  },
  {
   "cell_type": "markdown",
   "metadata": {},
   "source": [
    "Cuando K=1  \n",
    "(A)  \n",
    "Soporte: 0.6  \n",
    "Confianza: 0.6  \n",
    "Lift: 1.0  \n",
    "(C)  \n",
    "Soporte: 0.8  \n",
    "Confianza: 0.8  \n",
    "Lift: 1.0  \n",
    "(E)  \n",
    "Soporte: 0.8  \n",
    "Confianza: 0.8  \n",
    "Lift: 1.0  "
   ]
  },
  {
   "cell_type": "markdown",
   "metadata": {},
   "source": [
    "Cuando K=2  \n",
    "(C,A)  \n",
    "Soporte: 0.6  \n",
    "Confianza: 0.6  \n",
    "Lift: 1.0  \n",
    "  \n",
    "(A->C)  \n",
    "Soporte: 0.6  \n",
    "Confianza: 1.0  \n",
    "Lift: 1.25  \n",
    "(C->A)  \n",
    "Soporte: 0.6  \n",
    "Confianza: 0.0.749999999999999  \n",
    "Lift: 1.2499999999999998  \n",
    "  \n",
    "  \n",
    "  \n",
    "(E,C)  \n",
    "Soporte: 0.6  \n",
    "Confianza: 0.6  \n",
    "Lift: 1.0  \n",
    "  \n",
    "(E->C)\n",
    "Support: 0.6  \n",
    "Confidence: 0.7499999999999999  \n",
    "Lift:0.9374999999999998  \n",
    "(C->E)  \n",
    "Support: 0.6  \n",
    "Confidence: 0.7499999999999999  \n",
    "Lift: 0.9374999999999998  "
   ]
  },
  {
   "cell_type": "code",
   "execution_count": null,
   "metadata": {},
   "outputs": [],
   "source": []
  }
 ],
 "metadata": {
  "kernelspec": {
   "display_name": "Python 3",
   "language": "python",
   "name": "python3"
  },
  "language_info": {
   "codemirror_mode": {
    "name": "ipython",
    "version": 3
   },
   "file_extension": ".py",
   "mimetype": "text/x-python",
   "name": "python",
   "nbconvert_exporter": "python",
   "pygments_lexer": "ipython3",
   "version": "3.7.6"
  }
 },
 "nbformat": 4,
 "nbformat_minor": 4
}
