{
 "cells": [
  {
   "cell_type": "markdown",
   "metadata": {},
   "source": [
    "## Segundo Avance PIA  \n",
    "<b> Grupo 002 Equipo 7 </b>  \n",
    "<b> Integrantes </b>  \n",
    "Arturo Del Ángel De La Cruz 1809895  \n",
    "Valeria Nohemí Navarro Cabello 1820160  \n",
    "Sofía Pamela Rosales Garza 1799219"
   ]
  },
  {
   "cell_type": "markdown",
   "metadata": {},
   "source": [
    "<b> 1) Título de la base de datos </b>  \n",
    "Mass Shootings in U.S.\n",
    "\n",
    "<b> 2) Descripción de los datos </b>  \n",
    "\n",
    "a. <i> Descripción breve de la base de datos </i>  \n",
    "En nuestro proyecto decidimos trabajar con una base de datos sobre los tiroteos en Estados Unidos recolectados desde el año 1996 hasta 2017. A continuación se presenta su descripción, el tamaño, los diferentes títulos de las columnas y el tipo de datos que hay en ellas.\n"
   ]
  },
  {
   "cell_type": "markdown",
   "metadata": {},
   "source": [
    "b. <i> Descripción breve con herramientas vistas en clase </i> "
   ]
  },
  {
   "cell_type": "code",
   "execution_count": 139,
   "metadata": {},
   "outputs": [],
   "source": [
    "import pandas as pd\n",
    "import numpy as np\n",
    "ms = pd.read_excel(\"MASS SHOOTINGS.xlsx\")"
   ]
  },
  {
   "cell_type": "code",
   "execution_count": 140,
   "metadata": {},
   "outputs": [
    {
     "data": {
      "text/plain": [
       "(307, 54)"
      ]
     },
     "execution_count": 140,
     "metadata": {},
     "output_type": "execute_result"
    }
   ],
   "source": [
    "ms.shape"
   ]
  },
  {
   "cell_type": "markdown",
   "metadata": {},
   "source": [
    "Nuestra base de datos tiene 307 renglones y 54 columnas."
   ]
  },
  {
   "cell_type": "code",
   "execution_count": 141,
   "metadata": {},
   "outputs": [
    {
     "data": {
      "text/plain": [
       "Index(['S#', 'Title', 'Location', 'Date', 'civilian intervention',\n",
       "       'police intervention', 'suicide', 'age', 'age.1', 'SCHOOL', 'GANG',\n",
       "       'CRIME', 'ALTERCATION', 'POLITICAL', 'FAMILY', 'RANDOM', 'WORK',\n",
       "       'motive', 'Summary', 'Fatalities', 'Injured', 'Total victims', 'WELL',\n",
       "       'ILL', 'Mental Health Issues', 'latino', 'native am', 'asian', 'black',\n",
       "       'white', 'Race', 'female', 'male', 'Gender', 'Latitude', 'Longitude',\n",
       "       'Na', 'NaN', 'NAA', 'NAAA', 'STATE', '0G', '1G', '2G', '3G', '4G', '5G',\n",
       "       '7G', '8G', '9G', '10G', 'GUNCONTROL', 'STRICT', 'NOT STRICT'],\n",
       "      dtype='object')"
      ]
     },
     "execution_count": 141,
     "metadata": {},
     "output_type": "execute_result"
    }
   ],
   "source": [
    "ms.columns"
   ]
  },
  {
   "cell_type": "markdown",
   "metadata": {},
   "source": [
    "Con esta función obtuvimos los títulos de cada una de las columnas de la base de datos."
   ]
  },
  {
   "cell_type": "code",
   "execution_count": 142,
   "metadata": {},
   "outputs": [
    {
     "data": {
      "text/plain": [
       "S#                                int64\n",
       "Title                            object\n",
       "Location                         object\n",
       "Date                     datetime64[ns]\n",
       "civilian intervention           float64\n",
       "police intervention             float64\n",
       "suicide                           int64\n",
       "age                             float64\n",
       "age.1                           float64\n",
       "SCHOOL                            int64\n",
       "GANG                              int64\n",
       "CRIME                             int64\n",
       "ALTERCATION                       int64\n",
       "POLITICAL                         int64\n",
       "FAMILY                            int64\n",
       "RANDOM                            int64\n",
       "WORK                              int64\n",
       "motive                           object\n",
       "Summary                          object\n",
       "Fatalities                        int64\n",
       "Injured                           int64\n",
       "Total victims                     int64\n",
       "WELL                              int64\n",
       "ILL                               int64\n",
       "Mental Health Issues             object\n",
       "latino                            int64\n",
       "native am                         int64\n",
       "asian                             int64\n",
       "black                             int64\n",
       "white                             int64\n",
       "Race                             object\n",
       "female                            int64\n",
       "male                              int64\n",
       "Gender                           object\n",
       "Latitude                        float64\n",
       "Longitude                       float64\n",
       "Na                              float64\n",
       "NaN                             float64\n",
       "NAA                              object\n",
       "NAAA                             object\n",
       "STATE                            object\n",
       "0G                                int64\n",
       "1G                                int64\n",
       "2G                                int64\n",
       "3G                                int64\n",
       "4G                                int64\n",
       "5G                                int64\n",
       "7G                                int64\n",
       "8G                                int64\n",
       "9G                                int64\n",
       "10G                               int64\n",
       "GUNCONTROL                        int64\n",
       "STRICT                            int64\n",
       "NOT STRICT                        int64\n",
       "dtype: object"
      ]
     },
     "execution_count": 142,
     "metadata": {},
     "output_type": "execute_result"
    }
   ],
   "source": [
    "ms.dtypes"
   ]
  },
  {
   "cell_type": "markdown",
   "metadata": {},
   "source": [
    "La instrucción anterior define el tipo de dato de cada columna."
   ]
  },
  {
   "cell_type": "markdown",
   "metadata": {},
   "source": [
    "<b> 3) Justificación del uso de datos </b>  \n",
    "\n",
    "a. <i> Característica que nos llamó la atención </i>  \n",
    "Nos llamó la atención que los datos son muy claros y esta problemática es algo que suele suceder mucho en Estados Unidos por lo que nos gustaría encontrar una relación entre estos tiroteos.  \n",
    "\n",
    "b. <i> Beneficio al trabajar con los datos </i>  \n",
    "El beneficio que vimos es que son datos fáciles de interpretar y muy claros con los cuales se podría facilitar el uso de la técnica."
   ]
  },
  {
   "cell_type": "markdown",
   "metadata": {},
   "source": [
    "<b> 4) Mencionar los objetivos </b>  \n",
    "\n",
    "a. <i> Objetivo principal </i>  \n",
    "Considerando que somos una institución encargada de la salud mental de las personas, nuestro objetivo es estudiar los comportamientos y antecedentes de los responsables de los tiroteos buscando patrones que nos ayuden a encontrar características similares en los agresores para después hacer un llamado de conciencia buscando que todas las personas desde pequeñas tengan un acercamiento a la salud mental acudiendo con un profesional en psicología y evitando que sentimientos tan comunes como el resentimiento, odio, estrés puedan provocar actos tan brutales como lo son los tiroteos.  \n",
    "\n",
    "b. <i> Objetivo secundario </i>  \n",
    "Queremos encontrar la relación entre el número de víctimas en cada estado y que tan estrictos son en cuanto a las normas del uso de armas para saber cómo influyen las normas en la población. Esto con el fin de hacer conciencia y que los gobernantes hagan cambios en sus reglas para disminuir los tiroteos y que haya menos víctimas."
   ]
  },
  {
   "cell_type": "markdown",
   "metadata": {},
   "source": [
    "## Desarrollo de las herramientas"
   ]
  },
  {
   "cell_type": "markdown",
   "metadata": {},
   "source": [
    "<b> 1. Limpieza de los datos </b>"
   ]
  },
  {
   "cell_type": "markdown",
   "metadata": {},
   "source": [
    "a. <i> Datos sin manipulación </i>  \n",
    "Mostraremos los primeros y úlitmos datos de la base."
   ]
  },
  {
   "cell_type": "code",
   "execution_count": 143,
   "metadata": {},
   "outputs": [
    {
     "data": {
      "text/html": [
       "<div>\n",
       "<style scoped>\n",
       "    .dataframe tbody tr th:only-of-type {\n",
       "        vertical-align: middle;\n",
       "    }\n",
       "\n",
       "    .dataframe tbody tr th {\n",
       "        vertical-align: top;\n",
       "    }\n",
       "\n",
       "    .dataframe thead th {\n",
       "        text-align: right;\n",
       "    }\n",
       "</style>\n",
       "<table border=\"1\" class=\"dataframe\">\n",
       "  <thead>\n",
       "    <tr style=\"text-align: right;\">\n",
       "      <th></th>\n",
       "      <th>S#</th>\n",
       "      <th>Title</th>\n",
       "      <th>Location</th>\n",
       "      <th>Date</th>\n",
       "      <th>civilian intervention</th>\n",
       "      <th>police intervention</th>\n",
       "      <th>suicide</th>\n",
       "      <th>age</th>\n",
       "      <th>age.1</th>\n",
       "      <th>SCHOOL</th>\n",
       "      <th>...</th>\n",
       "      <th>3G</th>\n",
       "      <th>4G</th>\n",
       "      <th>5G</th>\n",
       "      <th>7G</th>\n",
       "      <th>8G</th>\n",
       "      <th>9G</th>\n",
       "      <th>10G</th>\n",
       "      <th>GUNCONTROL</th>\n",
       "      <th>STRICT</th>\n",
       "      <th>NOT STRICT</th>\n",
       "    </tr>\n",
       "  </thead>\n",
       "  <tbody>\n",
       "    <tr>\n",
       "      <th>0</th>\n",
       "      <td>1</td>\n",
       "      <td>Las Vegas Strip mass shooting</td>\n",
       "      <td>Las Vegas, NV</td>\n",
       "      <td>2017-10-01</td>\n",
       "      <td>0.0</td>\n",
       "      <td>0.0</td>\n",
       "      <td>1</td>\n",
       "      <td>NaN</td>\n",
       "      <td>64.0</td>\n",
       "      <td>0</td>\n",
       "      <td>...</td>\n",
       "      <td>0</td>\n",
       "      <td>0</td>\n",
       "      <td>0</td>\n",
       "      <td>0</td>\n",
       "      <td>0</td>\n",
       "      <td>0</td>\n",
       "      <td>0</td>\n",
       "      <td>0</td>\n",
       "      <td>0</td>\n",
       "      <td>1</td>\n",
       "    </tr>\n",
       "    <tr>\n",
       "      <th>1</th>\n",
       "      <td>2</td>\n",
       "      <td>San Francisco UPS shooting</td>\n",
       "      <td>San Francisco, CA</td>\n",
       "      <td>2017-06-14</td>\n",
       "      <td>0.0</td>\n",
       "      <td>1.0</td>\n",
       "      <td>1</td>\n",
       "      <td>NaN</td>\n",
       "      <td>38.0</td>\n",
       "      <td>0</td>\n",
       "      <td>...</td>\n",
       "      <td>0</td>\n",
       "      <td>0</td>\n",
       "      <td>0</td>\n",
       "      <td>0</td>\n",
       "      <td>8</td>\n",
       "      <td>0</td>\n",
       "      <td>0</td>\n",
       "      <td>8</td>\n",
       "      <td>1</td>\n",
       "      <td>0</td>\n",
       "    </tr>\n",
       "    <tr>\n",
       "      <th>2</th>\n",
       "      <td>3</td>\n",
       "      <td>Pennsylvania supermarket shooting</td>\n",
       "      <td>Tunkhannock, PA</td>\n",
       "      <td>2017-06-07</td>\n",
       "      <td>0.0</td>\n",
       "      <td>0.0</td>\n",
       "      <td>1</td>\n",
       "      <td>NaN</td>\n",
       "      <td>24.0</td>\n",
       "      <td>0</td>\n",
       "      <td>...</td>\n",
       "      <td>0</td>\n",
       "      <td>0</td>\n",
       "      <td>5</td>\n",
       "      <td>0</td>\n",
       "      <td>0</td>\n",
       "      <td>0</td>\n",
       "      <td>0</td>\n",
       "      <td>5</td>\n",
       "      <td>1</td>\n",
       "      <td>0</td>\n",
       "    </tr>\n",
       "    <tr>\n",
       "      <th>3</th>\n",
       "      <td>4</td>\n",
       "      <td>Florida awning manufacturer shooting</td>\n",
       "      <td>Orlando, Florida</td>\n",
       "      <td>2017-06-05</td>\n",
       "      <td>NaN</td>\n",
       "      <td>NaN</td>\n",
       "      <td>1</td>\n",
       "      <td>NaN</td>\n",
       "      <td>45.0</td>\n",
       "      <td>0</td>\n",
       "      <td>...</td>\n",
       "      <td>0</td>\n",
       "      <td>0</td>\n",
       "      <td>0</td>\n",
       "      <td>0</td>\n",
       "      <td>0</td>\n",
       "      <td>0</td>\n",
       "      <td>0</td>\n",
       "      <td>2</td>\n",
       "      <td>0</td>\n",
       "      <td>1</td>\n",
       "    </tr>\n",
       "    <tr>\n",
       "      <th>4</th>\n",
       "      <td>5</td>\n",
       "      <td>Rural Ohio nursing home shooting</td>\n",
       "      <td>Kirkersville, Ohio</td>\n",
       "      <td>2017-05-12</td>\n",
       "      <td>NaN</td>\n",
       "      <td>NaN</td>\n",
       "      <td>0</td>\n",
       "      <td>NaN</td>\n",
       "      <td>43.0</td>\n",
       "      <td>0</td>\n",
       "      <td>...</td>\n",
       "      <td>0</td>\n",
       "      <td>0</td>\n",
       "      <td>0</td>\n",
       "      <td>0</td>\n",
       "      <td>0</td>\n",
       "      <td>0</td>\n",
       "      <td>0</td>\n",
       "      <td>1</td>\n",
       "      <td>0</td>\n",
       "      <td>1</td>\n",
       "    </tr>\n",
       "  </tbody>\n",
       "</table>\n",
       "<p>5 rows × 54 columns</p>\n",
       "</div>"
      ],
      "text/plain": [
       "   S#                                 Title            Location       Date  \\\n",
       "0   1         Las Vegas Strip mass shooting       Las Vegas, NV 2017-10-01   \n",
       "1   2            San Francisco UPS shooting   San Francisco, CA 2017-06-14   \n",
       "2   3     Pennsylvania supermarket shooting     Tunkhannock, PA 2017-06-07   \n",
       "3   4  Florida awning manufacturer shooting    Orlando, Florida 2017-06-05   \n",
       "4   5      Rural Ohio nursing home shooting  Kirkersville, Ohio 2017-05-12   \n",
       "\n",
       "   civilian intervention  police intervention  suicide  age  age.1  SCHOOL  \\\n",
       "0                    0.0                  0.0        1  NaN   64.0       0   \n",
       "1                    0.0                  1.0        1  NaN   38.0       0   \n",
       "2                    0.0                  0.0        1  NaN   24.0       0   \n",
       "3                    NaN                  NaN        1  NaN   45.0       0   \n",
       "4                    NaN                  NaN        0  NaN   43.0       0   \n",
       "\n",
       "   ...  3G  4G  5G  7G  8G  9G  10G GUNCONTROL STRICT  NOT STRICT  \n",
       "0  ...   0   0   0   0   0   0    0          0      0           1  \n",
       "1  ...   0   0   0   0   8   0    0          8      1           0  \n",
       "2  ...   0   0   5   0   0   0    0          5      1           0  \n",
       "3  ...   0   0   0   0   0   0    0          2      0           1  \n",
       "4  ...   0   0   0   0   0   0    0          1      0           1  \n",
       "\n",
       "[5 rows x 54 columns]"
      ]
     },
     "execution_count": 143,
     "metadata": {},
     "output_type": "execute_result"
    }
   ],
   "source": [
    "ms.head()"
   ]
  },
  {
   "cell_type": "code",
   "execution_count": 144,
   "metadata": {},
   "outputs": [
    {
     "data": {
      "text/html": [
       "<div>\n",
       "<style scoped>\n",
       "    .dataframe tbody tr th:only-of-type {\n",
       "        vertical-align: middle;\n",
       "    }\n",
       "\n",
       "    .dataframe tbody tr th {\n",
       "        vertical-align: top;\n",
       "    }\n",
       "\n",
       "    .dataframe thead th {\n",
       "        text-align: right;\n",
       "    }\n",
       "</style>\n",
       "<table border=\"1\" class=\"dataframe\">\n",
       "  <thead>\n",
       "    <tr style=\"text-align: right;\">\n",
       "      <th></th>\n",
       "      <th>S#</th>\n",
       "      <th>Title</th>\n",
       "      <th>Location</th>\n",
       "      <th>Date</th>\n",
       "      <th>civilian intervention</th>\n",
       "      <th>police intervention</th>\n",
       "      <th>suicide</th>\n",
       "      <th>age</th>\n",
       "      <th>age.1</th>\n",
       "      <th>SCHOOL</th>\n",
       "      <th>...</th>\n",
       "      <th>3G</th>\n",
       "      <th>4G</th>\n",
       "      <th>5G</th>\n",
       "      <th>7G</th>\n",
       "      <th>8G</th>\n",
       "      <th>9G</th>\n",
       "      <th>10G</th>\n",
       "      <th>GUNCONTROL</th>\n",
       "      <th>STRICT</th>\n",
       "      <th>NOT STRICT</th>\n",
       "    </tr>\n",
       "  </thead>\n",
       "  <tbody>\n",
       "    <tr>\n",
       "      <th>302</th>\n",
       "      <td>394</td>\n",
       "      <td>Clara Barton Elementary School</td>\n",
       "      <td>Chicago, Illinois</td>\n",
       "      <td>1974-01-17</td>\n",
       "      <td>0.0</td>\n",
       "      <td>1.0</td>\n",
       "      <td>0</td>\n",
       "      <td>NaN</td>\n",
       "      <td>14.0</td>\n",
       "      <td>1</td>\n",
       "      <td>...</td>\n",
       "      <td>0</td>\n",
       "      <td>0</td>\n",
       "      <td>0</td>\n",
       "      <td>0</td>\n",
       "      <td>8</td>\n",
       "      <td>0</td>\n",
       "      <td>0</td>\n",
       "      <td>8</td>\n",
       "      <td>1</td>\n",
       "      <td>0</td>\n",
       "    </tr>\n",
       "    <tr>\n",
       "      <th>303</th>\n",
       "      <td>395</td>\n",
       "      <td>New Orleans Police Shootings</td>\n",
       "      <td>New Orleans, Louisiana</td>\n",
       "      <td>1972-12-31</td>\n",
       "      <td>0.0</td>\n",
       "      <td>0.0</td>\n",
       "      <td>1</td>\n",
       "      <td>NaN</td>\n",
       "      <td>23.0</td>\n",
       "      <td>0</td>\n",
       "      <td>...</td>\n",
       "      <td>0</td>\n",
       "      <td>0</td>\n",
       "      <td>0</td>\n",
       "      <td>7</td>\n",
       "      <td>0</td>\n",
       "      <td>0</td>\n",
       "      <td>0</td>\n",
       "      <td>7</td>\n",
       "      <td>1</td>\n",
       "      <td>0</td>\n",
       "    </tr>\n",
       "    <tr>\n",
       "      <th>304</th>\n",
       "      <td>396</td>\n",
       "      <td>St. Aloysius Church</td>\n",
       "      <td>Spokane, Washington</td>\n",
       "      <td>1971-11-11</td>\n",
       "      <td>0.0</td>\n",
       "      <td>1.0</td>\n",
       "      <td>0</td>\n",
       "      <td>NaN</td>\n",
       "      <td>NaN</td>\n",
       "      <td>1</td>\n",
       "      <td>...</td>\n",
       "      <td>0</td>\n",
       "      <td>0</td>\n",
       "      <td>0</td>\n",
       "      <td>0</td>\n",
       "      <td>0</td>\n",
       "      <td>0</td>\n",
       "      <td>0</td>\n",
       "      <td>2</td>\n",
       "      <td>0</td>\n",
       "      <td>1</td>\n",
       "    </tr>\n",
       "    <tr>\n",
       "      <th>305</th>\n",
       "      <td>397</td>\n",
       "      <td>Rose-Mar College of Beauty</td>\n",
       "      <td>Mesa, Arizona</td>\n",
       "      <td>1966-11-12</td>\n",
       "      <td>0.0</td>\n",
       "      <td>0.0</td>\n",
       "      <td>0</td>\n",
       "      <td>NaN</td>\n",
       "      <td>18.0</td>\n",
       "      <td>0</td>\n",
       "      <td>...</td>\n",
       "      <td>0</td>\n",
       "      <td>0</td>\n",
       "      <td>0</td>\n",
       "      <td>0</td>\n",
       "      <td>0</td>\n",
       "      <td>0</td>\n",
       "      <td>0</td>\n",
       "      <td>0</td>\n",
       "      <td>0</td>\n",
       "      <td>1</td>\n",
       "    </tr>\n",
       "    <tr>\n",
       "      <th>306</th>\n",
       "      <td>398</td>\n",
       "      <td>University of Texas at Austin</td>\n",
       "      <td>Austin, Texas</td>\n",
       "      <td>1966-08-01</td>\n",
       "      <td>0.0</td>\n",
       "      <td>0.0</td>\n",
       "      <td>0</td>\n",
       "      <td>NaN</td>\n",
       "      <td>25.0</td>\n",
       "      <td>1</td>\n",
       "      <td>...</td>\n",
       "      <td>0</td>\n",
       "      <td>0</td>\n",
       "      <td>0</td>\n",
       "      <td>0</td>\n",
       "      <td>0</td>\n",
       "      <td>0</td>\n",
       "      <td>0</td>\n",
       "      <td>0</td>\n",
       "      <td>0</td>\n",
       "      <td>1</td>\n",
       "    </tr>\n",
       "  </tbody>\n",
       "</table>\n",
       "<p>5 rows × 54 columns</p>\n",
       "</div>"
      ],
      "text/plain": [
       "      S#                           Title                Location       Date  \\\n",
       "302  394  Clara Barton Elementary School       Chicago, Illinois 1974-01-17   \n",
       "303  395    New Orleans Police Shootings  New Orleans, Louisiana 1972-12-31   \n",
       "304  396             St. Aloysius Church     Spokane, Washington 1971-11-11   \n",
       "305  397      Rose-Mar College of Beauty           Mesa, Arizona 1966-11-12   \n",
       "306  398   University of Texas at Austin           Austin, Texas 1966-08-01   \n",
       "\n",
       "     civilian intervention  police intervention  suicide  age  age.1  SCHOOL  \\\n",
       "302                    0.0                  1.0        0  NaN   14.0       1   \n",
       "303                    0.0                  0.0        1  NaN   23.0       0   \n",
       "304                    0.0                  1.0        0  NaN    NaN       1   \n",
       "305                    0.0                  0.0        0  NaN   18.0       0   \n",
       "306                    0.0                  0.0        0  NaN   25.0       1   \n",
       "\n",
       "     ...  3G  4G  5G  7G  8G  9G  10G GUNCONTROL STRICT  NOT STRICT  \n",
       "302  ...   0   0   0   0   8   0    0          8      1           0  \n",
       "303  ...   0   0   0   7   0   0    0          7      1           0  \n",
       "304  ...   0   0   0   0   0   0    0          2      0           1  \n",
       "305  ...   0   0   0   0   0   0    0          0      0           1  \n",
       "306  ...   0   0   0   0   0   0    0          0      0           1  \n",
       "\n",
       "[5 rows x 54 columns]"
      ]
     },
     "execution_count": 144,
     "metadata": {},
     "output_type": "execute_result"
    }
   ],
   "source": [
    "ms.tail()"
   ]
  },
  {
   "cell_type": "markdown",
   "metadata": {},
   "source": [
    "b. <i> Correcta manipulación de los datos nulos </i>  "
   ]
  },
  {
   "cell_type": "code",
   "execution_count": 145,
   "metadata": {},
   "outputs": [
    {
     "data": {
      "text/html": [
       "<div>\n",
       "<style scoped>\n",
       "    .dataframe tbody tr th:only-of-type {\n",
       "        vertical-align: middle;\n",
       "    }\n",
       "\n",
       "    .dataframe tbody tr th {\n",
       "        vertical-align: top;\n",
       "    }\n",
       "\n",
       "    .dataframe thead th {\n",
       "        text-align: right;\n",
       "    }\n",
       "</style>\n",
       "<table border=\"1\" class=\"dataframe\">\n",
       "  <thead>\n",
       "    <tr style=\"text-align: right;\">\n",
       "      <th></th>\n",
       "      <th>S#</th>\n",
       "      <th>Title</th>\n",
       "      <th>Location</th>\n",
       "      <th>Date</th>\n",
       "      <th>civilian intervention</th>\n",
       "      <th>police intervention</th>\n",
       "      <th>suicide</th>\n",
       "      <th>age</th>\n",
       "      <th>age.1</th>\n",
       "      <th>SCHOOL</th>\n",
       "      <th>...</th>\n",
       "      <th>3G</th>\n",
       "      <th>4G</th>\n",
       "      <th>5G</th>\n",
       "      <th>7G</th>\n",
       "      <th>8G</th>\n",
       "      <th>9G</th>\n",
       "      <th>10G</th>\n",
       "      <th>GUNCONTROL</th>\n",
       "      <th>STRICT</th>\n",
       "      <th>NOT STRICT</th>\n",
       "    </tr>\n",
       "  </thead>\n",
       "  <tbody>\n",
       "    <tr>\n",
       "      <th>0</th>\n",
       "      <td>False</td>\n",
       "      <td>False</td>\n",
       "      <td>False</td>\n",
       "      <td>False</td>\n",
       "      <td>False</td>\n",
       "      <td>False</td>\n",
       "      <td>False</td>\n",
       "      <td>True</td>\n",
       "      <td>False</td>\n",
       "      <td>False</td>\n",
       "      <td>...</td>\n",
       "      <td>False</td>\n",
       "      <td>False</td>\n",
       "      <td>False</td>\n",
       "      <td>False</td>\n",
       "      <td>False</td>\n",
       "      <td>False</td>\n",
       "      <td>False</td>\n",
       "      <td>False</td>\n",
       "      <td>False</td>\n",
       "      <td>False</td>\n",
       "    </tr>\n",
       "    <tr>\n",
       "      <th>1</th>\n",
       "      <td>False</td>\n",
       "      <td>False</td>\n",
       "      <td>False</td>\n",
       "      <td>False</td>\n",
       "      <td>False</td>\n",
       "      <td>False</td>\n",
       "      <td>False</td>\n",
       "      <td>True</td>\n",
       "      <td>False</td>\n",
       "      <td>False</td>\n",
       "      <td>...</td>\n",
       "      <td>False</td>\n",
       "      <td>False</td>\n",
       "      <td>False</td>\n",
       "      <td>False</td>\n",
       "      <td>False</td>\n",
       "      <td>False</td>\n",
       "      <td>False</td>\n",
       "      <td>False</td>\n",
       "      <td>False</td>\n",
       "      <td>False</td>\n",
       "    </tr>\n",
       "    <tr>\n",
       "      <th>2</th>\n",
       "      <td>False</td>\n",
       "      <td>False</td>\n",
       "      <td>False</td>\n",
       "      <td>False</td>\n",
       "      <td>False</td>\n",
       "      <td>False</td>\n",
       "      <td>False</td>\n",
       "      <td>True</td>\n",
       "      <td>False</td>\n",
       "      <td>False</td>\n",
       "      <td>...</td>\n",
       "      <td>False</td>\n",
       "      <td>False</td>\n",
       "      <td>False</td>\n",
       "      <td>False</td>\n",
       "      <td>False</td>\n",
       "      <td>False</td>\n",
       "      <td>False</td>\n",
       "      <td>False</td>\n",
       "      <td>False</td>\n",
       "      <td>False</td>\n",
       "    </tr>\n",
       "    <tr>\n",
       "      <th>3</th>\n",
       "      <td>False</td>\n",
       "      <td>False</td>\n",
       "      <td>False</td>\n",
       "      <td>False</td>\n",
       "      <td>True</td>\n",
       "      <td>True</td>\n",
       "      <td>False</td>\n",
       "      <td>True</td>\n",
       "      <td>False</td>\n",
       "      <td>False</td>\n",
       "      <td>...</td>\n",
       "      <td>False</td>\n",
       "      <td>False</td>\n",
       "      <td>False</td>\n",
       "      <td>False</td>\n",
       "      <td>False</td>\n",
       "      <td>False</td>\n",
       "      <td>False</td>\n",
       "      <td>False</td>\n",
       "      <td>False</td>\n",
       "      <td>False</td>\n",
       "    </tr>\n",
       "    <tr>\n",
       "      <th>4</th>\n",
       "      <td>False</td>\n",
       "      <td>False</td>\n",
       "      <td>False</td>\n",
       "      <td>False</td>\n",
       "      <td>True</td>\n",
       "      <td>True</td>\n",
       "      <td>False</td>\n",
       "      <td>True</td>\n",
       "      <td>False</td>\n",
       "      <td>False</td>\n",
       "      <td>...</td>\n",
       "      <td>False</td>\n",
       "      <td>False</td>\n",
       "      <td>False</td>\n",
       "      <td>False</td>\n",
       "      <td>False</td>\n",
       "      <td>False</td>\n",
       "      <td>False</td>\n",
       "      <td>False</td>\n",
       "      <td>False</td>\n",
       "      <td>False</td>\n",
       "    </tr>\n",
       "    <tr>\n",
       "      <th>...</th>\n",
       "      <td>...</td>\n",
       "      <td>...</td>\n",
       "      <td>...</td>\n",
       "      <td>...</td>\n",
       "      <td>...</td>\n",
       "      <td>...</td>\n",
       "      <td>...</td>\n",
       "      <td>...</td>\n",
       "      <td>...</td>\n",
       "      <td>...</td>\n",
       "      <td>...</td>\n",
       "      <td>...</td>\n",
       "      <td>...</td>\n",
       "      <td>...</td>\n",
       "      <td>...</td>\n",
       "      <td>...</td>\n",
       "      <td>...</td>\n",
       "      <td>...</td>\n",
       "      <td>...</td>\n",
       "      <td>...</td>\n",
       "      <td>...</td>\n",
       "    </tr>\n",
       "    <tr>\n",
       "      <th>302</th>\n",
       "      <td>False</td>\n",
       "      <td>False</td>\n",
       "      <td>False</td>\n",
       "      <td>False</td>\n",
       "      <td>False</td>\n",
       "      <td>False</td>\n",
       "      <td>False</td>\n",
       "      <td>True</td>\n",
       "      <td>False</td>\n",
       "      <td>False</td>\n",
       "      <td>...</td>\n",
       "      <td>False</td>\n",
       "      <td>False</td>\n",
       "      <td>False</td>\n",
       "      <td>False</td>\n",
       "      <td>False</td>\n",
       "      <td>False</td>\n",
       "      <td>False</td>\n",
       "      <td>False</td>\n",
       "      <td>False</td>\n",
       "      <td>False</td>\n",
       "    </tr>\n",
       "    <tr>\n",
       "      <th>303</th>\n",
       "      <td>False</td>\n",
       "      <td>False</td>\n",
       "      <td>False</td>\n",
       "      <td>False</td>\n",
       "      <td>False</td>\n",
       "      <td>False</td>\n",
       "      <td>False</td>\n",
       "      <td>True</td>\n",
       "      <td>False</td>\n",
       "      <td>False</td>\n",
       "      <td>...</td>\n",
       "      <td>False</td>\n",
       "      <td>False</td>\n",
       "      <td>False</td>\n",
       "      <td>False</td>\n",
       "      <td>False</td>\n",
       "      <td>False</td>\n",
       "      <td>False</td>\n",
       "      <td>False</td>\n",
       "      <td>False</td>\n",
       "      <td>False</td>\n",
       "    </tr>\n",
       "    <tr>\n",
       "      <th>304</th>\n",
       "      <td>False</td>\n",
       "      <td>False</td>\n",
       "      <td>False</td>\n",
       "      <td>False</td>\n",
       "      <td>False</td>\n",
       "      <td>False</td>\n",
       "      <td>False</td>\n",
       "      <td>True</td>\n",
       "      <td>True</td>\n",
       "      <td>False</td>\n",
       "      <td>...</td>\n",
       "      <td>False</td>\n",
       "      <td>False</td>\n",
       "      <td>False</td>\n",
       "      <td>False</td>\n",
       "      <td>False</td>\n",
       "      <td>False</td>\n",
       "      <td>False</td>\n",
       "      <td>False</td>\n",
       "      <td>False</td>\n",
       "      <td>False</td>\n",
       "    </tr>\n",
       "    <tr>\n",
       "      <th>305</th>\n",
       "      <td>False</td>\n",
       "      <td>False</td>\n",
       "      <td>False</td>\n",
       "      <td>False</td>\n",
       "      <td>False</td>\n",
       "      <td>False</td>\n",
       "      <td>False</td>\n",
       "      <td>True</td>\n",
       "      <td>False</td>\n",
       "      <td>False</td>\n",
       "      <td>...</td>\n",
       "      <td>False</td>\n",
       "      <td>False</td>\n",
       "      <td>False</td>\n",
       "      <td>False</td>\n",
       "      <td>False</td>\n",
       "      <td>False</td>\n",
       "      <td>False</td>\n",
       "      <td>False</td>\n",
       "      <td>False</td>\n",
       "      <td>False</td>\n",
       "    </tr>\n",
       "    <tr>\n",
       "      <th>306</th>\n",
       "      <td>False</td>\n",
       "      <td>False</td>\n",
       "      <td>False</td>\n",
       "      <td>False</td>\n",
       "      <td>False</td>\n",
       "      <td>False</td>\n",
       "      <td>False</td>\n",
       "      <td>True</td>\n",
       "      <td>False</td>\n",
       "      <td>False</td>\n",
       "      <td>...</td>\n",
       "      <td>False</td>\n",
       "      <td>False</td>\n",
       "      <td>False</td>\n",
       "      <td>False</td>\n",
       "      <td>False</td>\n",
       "      <td>False</td>\n",
       "      <td>False</td>\n",
       "      <td>False</td>\n",
       "      <td>False</td>\n",
       "      <td>False</td>\n",
       "    </tr>\n",
       "  </tbody>\n",
       "</table>\n",
       "<p>307 rows × 54 columns</p>\n",
       "</div>"
      ],
      "text/plain": [
       "        S#  Title  Location   Date  civilian intervention  \\\n",
       "0    False  False     False  False                  False   \n",
       "1    False  False     False  False                  False   \n",
       "2    False  False     False  False                  False   \n",
       "3    False  False     False  False                   True   \n",
       "4    False  False     False  False                   True   \n",
       "..     ...    ...       ...    ...                    ...   \n",
       "302  False  False     False  False                  False   \n",
       "303  False  False     False  False                  False   \n",
       "304  False  False     False  False                  False   \n",
       "305  False  False     False  False                  False   \n",
       "306  False  False     False  False                  False   \n",
       "\n",
       "     police intervention  suicide   age  age.1  SCHOOL  ...     3G     4G  \\\n",
       "0                  False    False  True  False   False  ...  False  False   \n",
       "1                  False    False  True  False   False  ...  False  False   \n",
       "2                  False    False  True  False   False  ...  False  False   \n",
       "3                   True    False  True  False   False  ...  False  False   \n",
       "4                   True    False  True  False   False  ...  False  False   \n",
       "..                   ...      ...   ...    ...     ...  ...    ...    ...   \n",
       "302                False    False  True  False   False  ...  False  False   \n",
       "303                False    False  True  False   False  ...  False  False   \n",
       "304                False    False  True   True   False  ...  False  False   \n",
       "305                False    False  True  False   False  ...  False  False   \n",
       "306                False    False  True  False   False  ...  False  False   \n",
       "\n",
       "        5G     7G     8G     9G    10G  GUNCONTROL  STRICT  NOT STRICT  \n",
       "0    False  False  False  False  False       False   False       False  \n",
       "1    False  False  False  False  False       False   False       False  \n",
       "2    False  False  False  False  False       False   False       False  \n",
       "3    False  False  False  False  False       False   False       False  \n",
       "4    False  False  False  False  False       False   False       False  \n",
       "..     ...    ...    ...    ...    ...         ...     ...         ...  \n",
       "302  False  False  False  False  False       False   False       False  \n",
       "303  False  False  False  False  False       False   False       False  \n",
       "304  False  False  False  False  False       False   False       False  \n",
       "305  False  False  False  False  False       False   False       False  \n",
       "306  False  False  False  False  False       False   False       False  \n",
       "\n",
       "[307 rows x 54 columns]"
      ]
     },
     "execution_count": 145,
     "metadata": {},
     "output_type": "execute_result"
    }
   ],
   "source": [
    "ms.isnull()"
   ]
  },
  {
   "cell_type": "code",
   "execution_count": 146,
   "metadata": {},
   "outputs": [
    {
     "data": {
      "text/plain": [
       "S#                       False\n",
       "Title                    False\n",
       "Location                 False\n",
       "Date                     False\n",
       "civilian intervention     True\n",
       "police intervention       True\n",
       "suicide                  False\n",
       "age                       True\n",
       "age.1                     True\n",
       "SCHOOL                   False\n",
       "GANG                     False\n",
       "CRIME                    False\n",
       "ALTERCATION              False\n",
       "POLITICAL                False\n",
       "FAMILY                   False\n",
       "RANDOM                   False\n",
       "WORK                     False\n",
       "motive                   False\n",
       "Summary                   True\n",
       "Fatalities               False\n",
       "Injured                  False\n",
       "Total victims            False\n",
       "WELL                     False\n",
       "ILL                      False\n",
       "Mental Health Issues     False\n",
       "latino                   False\n",
       "native am                False\n",
       "asian                    False\n",
       "black                    False\n",
       "white                    False\n",
       "Race                      True\n",
       "female                   False\n",
       "male                     False\n",
       "Gender                   False\n",
       "Latitude                  True\n",
       "Longitude                 True\n",
       "Na                        True\n",
       "NaN                       True\n",
       "NAA                      False\n",
       "NAAA                     False\n",
       "STATE                    False\n",
       "0G                       False\n",
       "1G                       False\n",
       "2G                       False\n",
       "3G                       False\n",
       "4G                       False\n",
       "5G                       False\n",
       "7G                       False\n",
       "8G                       False\n",
       "9G                       False\n",
       "10G                      False\n",
       "GUNCONTROL               False\n",
       "STRICT                   False\n",
       "NOT STRICT               False\n",
       "dtype: bool"
      ]
     },
     "execution_count": 146,
     "metadata": {},
     "output_type": "execute_result"
    }
   ],
   "source": [
    "ms.isnull().any()"
   ]
  },
  {
   "cell_type": "code",
   "execution_count": 147,
   "metadata": {
    "scrolled": true
   },
   "outputs": [
    {
     "data": {
      "text/plain": [
       "S#                         0\n",
       "Title                      0\n",
       "Location                   0\n",
       "Date                       0\n",
       "civilian intervention      2\n",
       "police intervention        3\n",
       "suicide                    0\n",
       "age                      307\n",
       "age.1                    118\n",
       "SCHOOL                     0\n",
       "GANG                       0\n",
       "CRIME                      0\n",
       "ALTERCATION                0\n",
       "POLITICAL                  0\n",
       "FAMILY                     0\n",
       "RANDOM                     0\n",
       "WORK                       0\n",
       "motive                     0\n",
       "Summary                    1\n",
       "Fatalities                 0\n",
       "Injured                    0\n",
       "Total victims              0\n",
       "WELL                       0\n",
       "ILL                        0\n",
       "Mental Health Issues       0\n",
       "latino                     0\n",
       "native am                  0\n",
       "asian                      0\n",
       "black                      0\n",
       "white                      0\n",
       "Race                       2\n",
       "female                     0\n",
       "male                       0\n",
       "Gender                     0\n",
       "Latitude                  16\n",
       "Longitude                 16\n",
       "Na                        16\n",
       "NaN                       16\n",
       "NAA                        0\n",
       "NAAA                       0\n",
       "STATE                      0\n",
       "0G                         0\n",
       "1G                         0\n",
       "2G                         0\n",
       "3G                         0\n",
       "4G                         0\n",
       "5G                         0\n",
       "7G                         0\n",
       "8G                         0\n",
       "9G                         0\n",
       "10G                        0\n",
       "GUNCONTROL                 0\n",
       "STRICT                     0\n",
       "NOT STRICT                 0\n",
       "dtype: int64"
      ]
     },
     "execution_count": 147,
     "metadata": {},
     "output_type": "execute_result"
    }
   ],
   "source": [
    "ms.isnull().sum()"
   ]
  },
  {
   "cell_type": "markdown",
   "metadata": {},
   "source": [
    "c. <i> Eliminar columnas no deseadas y modificaciones </i>  "
   ]
  },
  {
   "cell_type": "code",
   "execution_count": 148,
   "metadata": {},
   "outputs": [],
   "source": [
    "ms.drop(['age','SCHOOL','GANG','CRIME','ALTERCATION','POLITICAL','FAMILY','RANDOM','WORK','latino','native am','asian','black','white','Na','NaN','NAA','NAAA','male','female','0G','1G','2G','3G','4G','5G','7G','8G','9G','10G','police intervention','civilian intervention','Latitude','Longitude'], axis=1, inplace=True)"
   ]
  },
  {
   "cell_type": "code",
   "execution_count": 149,
   "metadata": {},
   "outputs": [],
   "source": [
    "ms.rename(columns = {'S#':'Caso_No.'}, inplace= True)\n",
    "ms.rename(columns = {'Title':'Titulo'}, inplace= True)\n",
    "ms.rename(columns = {'Location':'Lugar'}, inplace= True)\n",
    "ms.rename(columns = {'Date':'Dia'}, inplace= True)\n",
    "ms.rename(columns = {'civilian intervention':'Intervencion_civil'}, inplace= True)\n",
    "ms.rename(columns = {'police intervention':'Intervencion_policial'}, inplace= True)\n",
    "ms.rename(columns = {'suicide':'Suicidio'}, inplace= True)\n",
    "ms.rename(columns = {'age.1':'Edad'}, inplace= True)\n",
    "ms.rename(columns = {'motive':'Motivo'}, inplace= True)\n",
    "ms.rename(columns = {'Summary':'Resumen'}, inplace= True)\n",
    "ms.rename(columns = {'Fatalities':'Muertes'}, inplace= True)\n",
    "ms.rename(columns = {'Injured':'Heridos'}, inplace= True)\n",
    "ms.rename(columns = {'Total victims':'Victimas_Totales'}, inplace= True)\n",
    "ms.rename(columns = {'Mental Health Issues':'Problemas_de_Salud_Mental'}, inplace= True)\n",
    "ms.rename(columns = {'Race':'Raza'}, inplace= True)\n",
    "ms.rename(columns = {'Gender':'Genero'}, inplace= True)\n",
    "ms.rename(columns = {'Latitude':'Latitud'}, inplace= True)\n",
    "ms.rename(columns = {'Longitude':'Longitud'}, inplace= True)\n",
    "ms.rename(columns = {'STATE':'Estado'}, inplace= True)\n",
    "ms.rename(columns = {'GUNCONTROL':'Control_de_armas'}, inplace= True)\n",
    "ms.rename(columns = {'STRICT':'Estrictos'}, inplace= True)\n",
    "ms.rename(columns = {'NOT STRICT':'No_Estrictos'}, inplace= True)\n",
    "ms.rename(columns = {'WELL':'Sanos'}, inplace= True)\n",
    "ms.rename(columns = {'ILL':'Enfermos'}, inplace= True)"
   ]
  },
  {
   "cell_type": "code",
   "execution_count": 150,
   "metadata": {},
   "outputs": [
    {
     "data": {
      "text/html": [
       "<div>\n",
       "<style scoped>\n",
       "    .dataframe tbody tr th:only-of-type {\n",
       "        vertical-align: middle;\n",
       "    }\n",
       "\n",
       "    .dataframe tbody tr th {\n",
       "        vertical-align: top;\n",
       "    }\n",
       "\n",
       "    .dataframe thead th {\n",
       "        text-align: right;\n",
       "    }\n",
       "</style>\n",
       "<table border=\"1\" class=\"dataframe\">\n",
       "  <thead>\n",
       "    <tr style=\"text-align: right;\">\n",
       "      <th></th>\n",
       "      <th>Caso_No.</th>\n",
       "      <th>Titulo</th>\n",
       "      <th>Lugar</th>\n",
       "      <th>Dia</th>\n",
       "      <th>Suicidio</th>\n",
       "      <th>Edad</th>\n",
       "      <th>Motivo</th>\n",
       "      <th>Resumen</th>\n",
       "      <th>Muertes</th>\n",
       "      <th>Heridos</th>\n",
       "      <th>Victimas_Totales</th>\n",
       "      <th>Sanos</th>\n",
       "      <th>Enfermos</th>\n",
       "      <th>Problemas_de_Salud_Mental</th>\n",
       "      <th>Raza</th>\n",
       "      <th>Genero</th>\n",
       "      <th>Estado</th>\n",
       "      <th>Control_de_armas</th>\n",
       "      <th>Estrictos</th>\n",
       "      <th>No_Estrictos</th>\n",
       "    </tr>\n",
       "  </thead>\n",
       "  <tbody>\n",
       "    <tr>\n",
       "      <th>0</th>\n",
       "      <td>1</td>\n",
       "      <td>Las Vegas Strip mass shooting</td>\n",
       "      <td>Las Vegas, NV</td>\n",
       "      <td>2017-10-01</td>\n",
       "      <td>1</td>\n",
       "      <td>64.0</td>\n",
       "      <td>R</td>\n",
       "      <td>NaN</td>\n",
       "      <td>58</td>\n",
       "      <td>515</td>\n",
       "      <td>573</td>\n",
       "      <td>0</td>\n",
       "      <td>0</td>\n",
       "      <td>Unclear</td>\n",
       "      <td>white</td>\n",
       "      <td>Male</td>\n",
       "      <td>NV</td>\n",
       "      <td>0</td>\n",
       "      <td>0</td>\n",
       "      <td>1</td>\n",
       "    </tr>\n",
       "    <tr>\n",
       "      <th>1</th>\n",
       "      <td>2</td>\n",
       "      <td>San Francisco UPS shooting</td>\n",
       "      <td>San Francisco, CA</td>\n",
       "      <td>2017-06-14</td>\n",
       "      <td>1</td>\n",
       "      <td>38.0</td>\n",
       "      <td>W</td>\n",
       "      <td>Jimmy Lam, 38, fatally shot three coworkers an...</td>\n",
       "      <td>3</td>\n",
       "      <td>2</td>\n",
       "      <td>5</td>\n",
       "      <td>0</td>\n",
       "      <td>1</td>\n",
       "      <td>Yes</td>\n",
       "      <td>Asian</td>\n",
       "      <td>Male</td>\n",
       "      <td>CA</td>\n",
       "      <td>8</td>\n",
       "      <td>1</td>\n",
       "      <td>0</td>\n",
       "    </tr>\n",
       "    <tr>\n",
       "      <th>2</th>\n",
       "      <td>3</td>\n",
       "      <td>Pennsylvania supermarket shooting</td>\n",
       "      <td>Tunkhannock, PA</td>\n",
       "      <td>2017-06-07</td>\n",
       "      <td>1</td>\n",
       "      <td>24.0</td>\n",
       "      <td>W</td>\n",
       "      <td>Randy Stair, a 24-year-old worker at Weis groc...</td>\n",
       "      <td>3</td>\n",
       "      <td>0</td>\n",
       "      <td>3</td>\n",
       "      <td>0</td>\n",
       "      <td>0</td>\n",
       "      <td>Unclear</td>\n",
       "      <td>White</td>\n",
       "      <td>Male</td>\n",
       "      <td>PA</td>\n",
       "      <td>5</td>\n",
       "      <td>1</td>\n",
       "      <td>0</td>\n",
       "    </tr>\n",
       "    <tr>\n",
       "      <th>3</th>\n",
       "      <td>4</td>\n",
       "      <td>Florida awning manufacturer shooting</td>\n",
       "      <td>Orlando, Florida</td>\n",
       "      <td>2017-06-05</td>\n",
       "      <td>1</td>\n",
       "      <td>45.0</td>\n",
       "      <td>W</td>\n",
       "      <td>John Robert Neumann, Jr., 45, a former employe...</td>\n",
       "      <td>5</td>\n",
       "      <td>0</td>\n",
       "      <td>5</td>\n",
       "      <td>0</td>\n",
       "      <td>0</td>\n",
       "      <td>Unclear</td>\n",
       "      <td>NaN</td>\n",
       "      <td>Male</td>\n",
       "      <td>FL</td>\n",
       "      <td>2</td>\n",
       "      <td>0</td>\n",
       "      <td>1</td>\n",
       "    </tr>\n",
       "    <tr>\n",
       "      <th>4</th>\n",
       "      <td>5</td>\n",
       "      <td>Rural Ohio nursing home shooting</td>\n",
       "      <td>Kirkersville, Ohio</td>\n",
       "      <td>2017-05-12</td>\n",
       "      <td>0</td>\n",
       "      <td>43.0</td>\n",
       "      <td>F</td>\n",
       "      <td>Thomas Hartless, 43, shot and killed a former ...</td>\n",
       "      <td>3</td>\n",
       "      <td>0</td>\n",
       "      <td>3</td>\n",
       "      <td>0</td>\n",
       "      <td>1</td>\n",
       "      <td>Yes</td>\n",
       "      <td>White</td>\n",
       "      <td>Male</td>\n",
       "      <td>OH</td>\n",
       "      <td>1</td>\n",
       "      <td>0</td>\n",
       "      <td>1</td>\n",
       "    </tr>\n",
       "  </tbody>\n",
       "</table>\n",
       "</div>"
      ],
      "text/plain": [
       "   Caso_No.                                Titulo               Lugar  \\\n",
       "0         1         Las Vegas Strip mass shooting       Las Vegas, NV   \n",
       "1         2            San Francisco UPS shooting   San Francisco, CA   \n",
       "2         3     Pennsylvania supermarket shooting     Tunkhannock, PA   \n",
       "3         4  Florida awning manufacturer shooting    Orlando, Florida   \n",
       "4         5      Rural Ohio nursing home shooting  Kirkersville, Ohio   \n",
       "\n",
       "         Dia  Suicidio  Edad Motivo  \\\n",
       "0 2017-10-01         1  64.0      R   \n",
       "1 2017-06-14         1  38.0      W   \n",
       "2 2017-06-07         1  24.0      W   \n",
       "3 2017-06-05         1  45.0      W   \n",
       "4 2017-05-12         0  43.0      F   \n",
       "\n",
       "                                             Resumen  Muertes  Heridos  \\\n",
       "0                                                NaN       58      515   \n",
       "1  Jimmy Lam, 38, fatally shot three coworkers an...        3        2   \n",
       "2  Randy Stair, a 24-year-old worker at Weis groc...        3        0   \n",
       "3  John Robert Neumann, Jr., 45, a former employe...        5        0   \n",
       "4  Thomas Hartless, 43, shot and killed a former ...        3        0   \n",
       "\n",
       "   Victimas_Totales  Sanos  Enfermos Problemas_de_Salud_Mental   Raza Genero  \\\n",
       "0               573      0         0                   Unclear  white   Male   \n",
       "1                 5      0         1                       Yes  Asian   Male   \n",
       "2                 3      0         0                   Unclear  White   Male   \n",
       "3                 5      0         0                   Unclear    NaN   Male   \n",
       "4                 3      0         1                       Yes  White   Male   \n",
       "\n",
       "  Estado  Control_de_armas  Estrictos  No_Estrictos  \n",
       "0     NV                 0          0             1  \n",
       "1     CA                 8          1             0  \n",
       "2     PA                 5          1             0  \n",
       "3     FL                 2          0             1  \n",
       "4     OH                 1          0             1  "
      ]
     },
     "execution_count": 150,
     "metadata": {},
     "output_type": "execute_result"
    }
   ],
   "source": [
    "ms.head()"
   ]
  },
  {
   "cell_type": "markdown",
   "metadata": {},
   "source": [
    "En la parte de arriba observamos los nuevos nombres de cada columna."
   ]
  },
  {
   "cell_type": "markdown",
   "metadata": {},
   "source": [
    "d. <i> Razón por la que removimos y modificamos columnas </i>  \n",
    "En total eliminamos 34 columnas de nuestra base de datos.  \n",
    "La columna de \"age\" la eliminamos porque tenía muchos datos nulos.  \n",
    "Las columnas \"SCHOOL\", \"GANG\", \"CRIME\", \"ALTERCATION\", \"POLITICAL, \"FAMILY\", \"RANDOM\", \"WORK\", \"latino\", \"native am\", \"asian\", \"black\", \"white\", \"male\" y \"female\" las eliminamos porque ya contamos con esa información en las columnas renombradas \"Motivo\", \"Raza\" y \"Genero\".\n",
    "Las columnas \"police intervention\",\"civilian intervention\",\"Na\", \"NaN\", \"NAA\", \"NAAA\", \"Latitude\", \"Longitude\", \"0G\", \"1G\", \"2G\", \"3G\", \"4G\", \"5G\", \"7G\", \"8G\", \"9G\", \"10G\" las eliminamos porque no son necesarias en nuestro análisis para alcanzar nuestro objetivo."
   ]
  },
  {
   "cell_type": "markdown",
   "metadata": {},
   "source": [
    "e. <i> Crear un nuevo archivo con la base de datos editada </i> "
   ]
  },
  {
   "cell_type": "code",
   "execution_count": 152,
   "metadata": {
    "scrolled": true
   },
   "outputs": [],
   "source": [
    "ms.to_excel('MS_NEW.xlsx', sheet_name='Base de Datos')"
   ]
  },
  {
   "cell_type": "code",
   "execution_count": 155,
   "metadata": {},
   "outputs": [],
   "source": [
    "msn = pd.read_excel(\"MS_NEW.xlsx\")"
   ]
  },
  {
   "cell_type": "markdown",
   "metadata": {},
   "source": [
    "<b> 2. Estadística básica de los datos </b>"
   ]
  },
  {
   "cell_type": "markdown",
   "metadata": {},
   "source": [
    "a. <i> Datos estadísticos básicos </i> "
   ]
  },
  {
   "cell_type": "markdown",
   "metadata": {},
   "source": [
    "Para nuestro objetivo principal vamos a calcular las proporciones de las diferentes situaciones de salud mental de los responsables de los tiroteos."
   ]
  },
  {
   "cell_type": "code",
   "execution_count": 201,
   "metadata": {},
   "outputs": [
    {
     "name": "stdout",
     "output_type": "stream",
     "text": [
      "La proporción de agresores sin problemas de salud mental es de: 0.2899022801302932\n",
      "La proporción de agresores con problemas de salud mental es de: 0.3517915309446254\n"
     ]
    }
   ],
   "source": [
    "print(\"La proporción de agresores sin problemas de salud mental es de:\", msn['Sanos'].mean())\n",
    "print(\"La proporción de agresores con problemas de salud mental es de:\", msn['Enfermos'].mean())"
   ]
  },
  {
   "cell_type": "markdown",
   "metadata": {},
   "source": [
    "Nuestra base de datos incluye casos de agresores de los que se desconoce o no se sabe con claridad si tiene problemas de salud mental, por lo que también vamos a calcular su proporción."
   ]
  },
  {
   "cell_type": "code",
   "execution_count": 316,
   "metadata": {},
   "outputs": [],
   "source": [
    "g = msn.groupby('Problemas_de_Salud_Mental')\n",
    "# Para extraer los datos de cada grupo usamos la función groupby que está dentro de la librería de pandas\n",
    "# https://towardsdatascience.com/pandas-groupby-aggregate-transform-filter-c95ba3444bbb"
   ]
  },
  {
   "cell_type": "code",
   "execution_count": 215,
   "metadata": {},
   "outputs": [
    {
     "data": {
      "text/plain": [
       "Problemas_de_Salud_Mental\n",
       "No          89\n",
       "Unclear     14\n",
       "Unknown     96\n",
       "Yes        108\n",
       "dtype: int64"
      ]
     },
     "execution_count": 215,
     "metadata": {},
     "output_type": "execute_result"
    }
   ],
   "source": [
    "g.size()"
   ]
  },
  {
   "cell_type": "code",
   "execution_count": 231,
   "metadata": {},
   "outputs": [],
   "source": [
    "UC = g.get_group('Unclear')\n",
    "UK = g.get_group('Unknown')"
   ]
  },
  {
   "cell_type": "code",
   "execution_count": 232,
   "metadata": {},
   "outputs": [
    {
     "data": {
      "text/plain": [
       "14"
      ]
     },
     "execution_count": 232,
     "metadata": {},
     "output_type": "execute_result"
    }
   ],
   "source": [
    "len(UC)"
   ]
  },
  {
   "cell_type": "code",
   "execution_count": 233,
   "metadata": {},
   "outputs": [
    {
     "data": {
      "text/plain": [
       "96"
      ]
     },
     "execution_count": 233,
     "metadata": {},
     "output_type": "execute_result"
    }
   ],
   "source": [
    "len(UK)"
   ]
  },
  {
   "cell_type": "markdown",
   "metadata": {},
   "source": [
    "La función de arriba nos permite saber cuántos y en qué situación se encuentran los agresores en cuanto a su salud mental."
   ]
  },
  {
   "cell_type": "code",
   "execution_count": 235,
   "metadata": {},
   "outputs": [
    {
     "name": "stdout",
     "output_type": "stream",
     "text": [
      "La proporción de agresores con situación de salud mental no clara es de: 0.04560260586319218\n",
      "La proporción de agresores con situación de salud mental desconocida es de: 0.3127035830618892\n"
     ]
    }
   ],
   "source": [
    "print(\"La proporción de agresores con situación de salud mental no clara es de:\", len(UC)/len(msn))\n",
    "print(\"La proporción de agresores con situación de salud mental desconocida es de:\", len(UK)/len(msn))"
   ]
  },
  {
   "cell_type": "markdown",
   "metadata": {},
   "source": [
    "Para nuestro objetivo secundario vamos a calcular el total de víctimas que hay en cada estado, el promedio general y por estado."
   ]
  },
  {
   "cell_type": "code",
   "execution_count": 240,
   "metadata": {},
   "outputs": [],
   "source": [
    "e = msn.groupby('Estado')"
   ]
  },
  {
   "cell_type": "code",
   "execution_count": 242,
   "metadata": {},
   "outputs": [],
   "source": [
    "AK = e.get_group('AK')\n",
    "AL = e.get_group('AL')\n",
    "AR = e.get_group('AR')\n",
    "AZ = e.get_group('AZ')\n",
    "CA = e.get_group('CA')\n",
    "CO = e.get_group('CO')\n",
    "CT = e.get_group('CT')\n",
    "DC = e.get_group('DC')\n",
    "DE = e.get_group('DE')\n",
    "FL = e.get_group('FL')\n",
    "GA = e.get_group('GA')\n",
    "HI = e.get_group('HI')\n",
    "IA = e.get_group('IA')\n",
    "ID = e.get_group('ID')\n",
    "IL = e.get_group('IL')\n",
    "IN = e.get_group('IN')\n",
    "KS = e.get_group('KS')\n",
    "KY = e.get_group('KY')\n",
    "LA = e.get_group('LA')\n",
    "MA = e.get_group('MA')\n",
    "MD = e.get_group('MD')\n",
    "ME = e.get_group('ME')\n",
    "MI = e.get_group('MI')\n",
    "MN = e.get_group('MN')\n",
    "MO = e.get_group('MO')\n",
    "MS = e.get_group('MS')\n",
    "MT = e.get_group('MT')\n",
    "NC = e.get_group('NC')\n",
    "NE = e.get_group('NE')\n",
    "NJ = e.get_group('NJ')\n",
    "NM = e.get_group('NM')\n",
    "NV = e.get_group('NV')\n",
    "NY = e.get_group('NY')\n",
    "OH = e.get_group('OH')\n",
    "OK = e.get_group('OK')\n",
    "OR = e.get_group('OR')\n",
    "PA = e.get_group('PA')\n",
    "SC = e.get_group('SC')\n",
    "SD = e.get_group('SD')\n",
    "TN = e.get_group('TN')\n",
    "TX = e.get_group('TX')\n",
    "UT = e.get_group('UT')\n",
    "VA = e.get_group('VA')\n",
    "VT = e.get_group('VT')\n",
    "WA = e.get_group('WA')\n",
    "WI = e.get_group('WI')\n",
    "WV = e.get_group('WV')\n",
    "WY = e.get_group('WY')"
   ]
  },
  {
   "cell_type": "code",
   "execution_count": 245,
   "metadata": {},
   "outputs": [],
   "source": [
    "SAK=AK['Victimas_Totales'].sum()\n",
    "SAL=AL['Victimas_Totales'].sum()\n",
    "SAR=AR['Victimas_Totales'].sum()\n",
    "SAZ=AZ['Victimas_Totales'].sum()\n",
    "SCA=CA['Victimas_Totales'].sum()\n",
    "SCO=CO['Victimas_Totales'].sum()\n",
    "SCT=CT['Victimas_Totales'].sum()\n",
    "SDC=DC['Victimas_Totales'].sum()\n",
    "SDE=DE['Victimas_Totales'].sum()\n",
    "SFL=FL['Victimas_Totales'].sum()\n",
    "SGA=GA['Victimas_Totales'].sum()\n",
    "SHI=HI['Victimas_Totales'].sum()\n",
    "SIA=IA['Victimas_Totales'].sum()\n",
    "SID=ID['Victimas_Totales'].sum()\n",
    "SIL=IL['Victimas_Totales'].sum()\n",
    "SIN=IN['Victimas_Totales'].sum()\n",
    "SKS=KS['Victimas_Totales'].sum()\n",
    "SKY=KY['Victimas_Totales'].sum()\n",
    "SLA=LA['Victimas_Totales'].sum()\n",
    "SMA=MA['Victimas_Totales'].sum()\n",
    "SMD=MD['Victimas_Totales'].sum()\n",
    "SME=ME['Victimas_Totales'].sum()\n",
    "SMI=MI['Victimas_Totales'].sum()\n",
    "SMN=MN['Victimas_Totales'].sum()\n",
    "SMO=MO['Victimas_Totales'].sum()\n",
    "SMS=MS['Victimas_Totales'].sum()\n",
    "SMT=MT['Victimas_Totales'].sum()\n",
    "SNC=NC['Victimas_Totales'].sum()\n",
    "SNE=NE['Victimas_Totales'].sum()\n",
    "SNJ=NJ['Victimas_Totales'].sum()\n",
    "SNM=NM['Victimas_Totales'].sum()\n",
    "SNV=NV['Victimas_Totales'].sum()\n",
    "SNY=NY['Victimas_Totales'].sum()\n",
    "SOH=OH['Victimas_Totales'].sum()\n",
    "SOK=OK['Victimas_Totales'].sum()\n",
    "SOR=OR['Victimas_Totales'].sum()\n",
    "SPA=PA['Victimas_Totales'].sum()\n",
    "SSC=SC['Victimas_Totales'].sum()\n",
    "SSD=SD['Victimas_Totales'].sum()\n",
    "STN=TN['Victimas_Totales'].sum()\n",
    "STX=TX['Victimas_Totales'].sum()\n",
    "SUT=UT['Victimas_Totales'].sum()\n",
    "SVA=VA['Victimas_Totales'].sum()\n",
    "SVT=VT['Victimas_Totales'].sum()\n",
    "SWA=WA['Victimas_Totales'].sum()\n",
    "SWI=WI['Victimas_Totales'].sum()\n",
    "SWV=WV['Victimas_Totales'].sum()\n",
    "SWY=WY['Victimas_Totales'].sum()"
   ]
  },
  {
   "cell_type": "code",
   "execution_count": 247,
   "metadata": {},
   "outputs": [
    {
     "name": "stdout",
     "output_type": "stream",
     "text": [
      "El total de víctimas en AK es de: 4\n",
      "El total de víctimas en AL es de: 58\n",
      "El total de víctimas en AR es de: 18\n",
      "El total de víctimas en AZ es de: 73\n",
      "El total de víctimas en CA es de: 375\n",
      "El total de víctimas en CO es de: 218\n",
      "El total de víctimas en CT es de: 46\n",
      "El total de víctimas en DC es de: 35\n",
      "El total de víctimas en DE es de: 5\n",
      "El total de víctimas en FL es de: 278\n",
      "El total de víctimas en GA es de: 92\n",
      "El total de víctimas en HI es de: 7\n",
      "El total de víctimas en IA es de: 6\n",
      "El total de víctimas en ID es de: 4\n",
      "El total de víctimas en IL es de: 80\n",
      "El total de víctimas en IN es de: 5\n",
      "El total de víctimas en KS es de: 34\n",
      "El total de víctimas en KY es de: 43\n",
      "El total de víctimas en LA es de: 60\n",
      "El total de víctimas en MA es de: 20\n",
      "El total de víctimas en MD es de: 4\n",
      "El total de víctimas en ME es de: 3\n",
      "El total de víctimas en MI es de: 44\n",
      "El total de víctimas en MN es de: 39\n",
      "El total de víctimas en MO es de: 16\n",
      "El total de víctimas en MS es de: 29\n",
      "El total de víctimas en MT es de: 8\n",
      "El total de víctimas en NC es de: 46\n",
      "El total de víctimas en NE es de: 25\n",
      "El total de víctimas en NJ es de: 17\n",
      "El total de víctimas en NM es de: 19\n",
      "El total de víctimas en NV es de: 599\n",
      "El total de víctimas en NY es de: 101\n",
      "El total de víctimas en OH es de: 54\n",
      "El total de víctimas en OK es de: 36\n",
      "El total de víctimas en OR es de: 58\n",
      "El total de víctimas en PA es de: 47\n",
      "El total de víctimas en SC es de: 39\n",
      "El total de víctimas en SD es de: 5\n",
      "El total de víctimas en TN es de: 30\n",
      "El total de víctimas en TX es de: 270\n",
      "El total de víctimas en UT es de: 13\n",
      "El total de víctimas en VA es de: 88\n",
      "El total de víctimas en VT es de: 4\n",
      "El total de víctimas en WA es de: 101\n",
      "El total de víctimas en WI es de: 69\n",
      "El total de víctimas en WV es de: 4\n",
      "El total de víctimas en WY es de: 4\n"
     ]
    }
   ],
   "source": [
    "print(\"El total de víctimas en AK es de:\",SAK)\n",
    "print(\"El total de víctimas en AL es de:\",SAL)\n",
    "print(\"El total de víctimas en AR es de:\",SAR)\n",
    "print(\"El total de víctimas en AZ es de:\",SAZ)\n",
    "print(\"El total de víctimas en CA es de:\",SCA)\n",
    "print(\"El total de víctimas en CO es de:\",SCO)\n",
    "print(\"El total de víctimas en CT es de:\",SCT)\n",
    "print(\"El total de víctimas en DC es de:\",SDC)\n",
    "print(\"El total de víctimas en DE es de:\",SDE)\n",
    "print(\"El total de víctimas en FL es de:\",SFL)\n",
    "print(\"El total de víctimas en GA es de:\",SGA)\n",
    "print(\"El total de víctimas en HI es de:\",SHI)\n",
    "print(\"El total de víctimas en IA es de:\",SIA)\n",
    "print(\"El total de víctimas en ID es de:\",SID)\n",
    "print(\"El total de víctimas en IL es de:\",SIL)\n",
    "print(\"El total de víctimas en IN es de:\",SIN)\n",
    "print(\"El total de víctimas en KS es de:\",SKS)\n",
    "print(\"El total de víctimas en KY es de:\",SKY)\n",
    "print(\"El total de víctimas en LA es de:\",SLA)\n",
    "print(\"El total de víctimas en MA es de:\",SMA)\n",
    "print(\"El total de víctimas en MD es de:\",SMD)\n",
    "print(\"El total de víctimas en ME es de:\",SME)\n",
    "print(\"El total de víctimas en MI es de:\",SMI)\n",
    "print(\"El total de víctimas en MN es de:\",SMN)\n",
    "print(\"El total de víctimas en MO es de:\",SMO)\n",
    "print(\"El total de víctimas en MS es de:\",SMS)\n",
    "print(\"El total de víctimas en MT es de:\",SMT)\n",
    "print(\"El total de víctimas en NC es de:\",SNC)\n",
    "print(\"El total de víctimas en NE es de:\",SNE)\n",
    "print(\"El total de víctimas en NJ es de:\",SNJ)\n",
    "print(\"El total de víctimas en NM es de:\",SNM)\n",
    "print(\"El total de víctimas en NV es de:\",SNV)\n",
    "print(\"El total de víctimas en NY es de:\",SNY)\n",
    "print(\"El total de víctimas en OH es de:\",SOH)\n",
    "print(\"El total de víctimas en OK es de:\",SOK)\n",
    "print(\"El total de víctimas en OR es de:\",SOR)\n",
    "print(\"El total de víctimas en PA es de:\",SPA)\n",
    "print(\"El total de víctimas en SC es de:\",SSC)\n",
    "print(\"El total de víctimas en SD es de:\",SSD)\n",
    "print(\"El total de víctimas en TN es de:\",STN)\n",
    "print(\"El total de víctimas en TX es de:\",STX)\n",
    "print(\"El total de víctimas en UT es de:\",SUT)\n",
    "print(\"El total de víctimas en VA es de:\",SVA)\n",
    "print(\"El total de víctimas en VT es de:\",SVT)\n",
    "print(\"El total de víctimas en WA es de:\",SWA)\n",
    "print(\"El total de víctimas en WI es de:\",SWI)\n",
    "print(\"El total de víctimas en WV es de:\",SWV)\n",
    "print(\"El total de víctimas en WY es de:\",SWY)"
   ]
  },
  {
   "cell_type": "code",
   "execution_count": 295,
   "metadata": {},
   "outputs": [
    {
     "name": "stdout",
     "output_type": "stream",
     "text": [
      "El promedio de víctimas totales en Estados Unidos es de: 10.530944625407166\n"
     ]
    }
   ],
   "source": [
    "print(\"El promedio de víctimas totales en Estados Unidos es de:\", msn['Victimas_Totales'].mean())"
   ]
  },
  {
   "cell_type": "code",
   "execution_count": 253,
   "metadata": {},
   "outputs": [
    {
     "name": "stdout",
     "output_type": "stream",
     "text": [
      "El promedio de víctimas en AK es de: 4.0\n",
      "El promedio de víctimas en AL es de: 5.8\n",
      "El promedio de víctimas en AR es de: 9.0\n",
      "El promedio de víctimas en AZ es de: 6.083333333333333\n",
      "El promedio de víctimas en CA es de: 10.714285714285714\n",
      "El promedio de víctimas en CO es de: 31.142857142857142\n",
      "El promedio de víctimas en CT es de: 15.333333333333334\n",
      "El promedio de víctimas en DC es de: 17.5\n",
      "El promedio de víctimas en DE es de: 5.0\n",
      "El promedio de víctimas en FL es de: 10.692307692307692\n",
      "El promedio de víctimas en GA es de: 5.75\n",
      "El promedio de víctimas en HI es de: 7.0\n",
      "El promedio de víctimas en IA es de: 6.0\n",
      "El promedio de víctimas en ID es de: 4.0\n",
      "El promedio de víctimas en IL es de: 8.0\n",
      "El promedio de víctimas en IN es de: 5.0\n",
      "El promedio de víctimas en KS es de: 6.8\n",
      "El promedio de víctimas en KY es de: 8.6\n",
      "El promedio de víctimas en LA es de: 8.571428571428571\n",
      "El promedio de víctimas en MA es de: 6.666666666666667\n",
      "El promedio de víctimas en MD es de: 4.0\n",
      "El promedio de víctimas en ME es de: 3.0\n",
      "El promedio de víctimas en MI es de: 5.5\n",
      "El promedio de víctimas en MN es de: 7.8\n",
      "El promedio de víctimas en MO es de: 8.0\n",
      "El promedio de víctimas en MS es de: 9.666666666666666\n",
      "El promedio de víctimas en MT es de: 4.0\n",
      "El promedio de víctimas en NC es de: 5.111111111111111\n",
      "El promedio de víctimas en NE es de: 8.333333333333334\n",
      "El promedio de víctimas en NJ es de: 4.25\n",
      "El promedio de víctimas en NM es de: 3.8\n",
      "El promedio de víctimas en NV es de: 99.83333333333333\n",
      "El promedio de víctimas en NY es de: 9.181818181818182\n",
      "El promedio de víctimas en OH es de: 5.4\n",
      "El promedio de víctimas en OK es de: 7.2\n",
      "El promedio de víctimas en OR es de: 14.5\n",
      "El promedio de víctimas en PA es de: 5.875\n",
      "El promedio de víctimas en SC es de: 7.8\n",
      "El promedio de víctimas en SD es de: 5.0\n",
      "El promedio de víctimas en TN es de: 4.285714285714286\n",
      "El promedio de víctimas en TX es de: 13.5\n",
      "El promedio de víctimas en UT es de: 6.5\n",
      "El promedio de víctimas en VA es de: 9.777777777777779\n",
      "El promedio de víctimas en VT es de: 4.0\n",
      "El promedio de víctimas en WA es de: 7.214285714285714\n",
      "El promedio de víctimas en WI es de: 6.9\n",
      "El promedio de víctimas en WV es de: 4.0\n",
      "El promedio de víctimas en WY es de: 4.0\n"
     ]
    }
   ],
   "source": [
    "print(\"El promedio de víctimas en AK es de:\",AK['Victimas_Totales'].mean())\n",
    "print(\"El promedio de víctimas en AL es de:\",AL['Victimas_Totales'].mean())\n",
    "print(\"El promedio de víctimas en AR es de:\",AR['Victimas_Totales'].mean())\n",
    "print(\"El promedio de víctimas en AZ es de:\",AZ['Victimas_Totales'].mean())\n",
    "print(\"El promedio de víctimas en CA es de:\",CA['Victimas_Totales'].mean())\n",
    "print(\"El promedio de víctimas en CO es de:\",CO['Victimas_Totales'].mean())\n",
    "print(\"El promedio de víctimas en CT es de:\",CT['Victimas_Totales'].mean())\n",
    "print(\"El promedio de víctimas en DC es de:\",DC['Victimas_Totales'].mean())\n",
    "print(\"El promedio de víctimas en DE es de:\",DE['Victimas_Totales'].mean())\n",
    "print(\"El promedio de víctimas en FL es de:\",FL['Victimas_Totales'].mean())\n",
    "print(\"El promedio de víctimas en GA es de:\",GA['Victimas_Totales'].mean())\n",
    "print(\"El promedio de víctimas en HI es de:\",HI['Victimas_Totales'].mean())\n",
    "print(\"El promedio de víctimas en IA es de:\",IA['Victimas_Totales'].mean())\n",
    "print(\"El promedio de víctimas en ID es de:\",ID['Victimas_Totales'].mean())\n",
    "print(\"El promedio de víctimas en IL es de:\",IL['Victimas_Totales'].mean())\n",
    "print(\"El promedio de víctimas en IN es de:\",IN['Victimas_Totales'].mean())\n",
    "print(\"El promedio de víctimas en KS es de:\",KS['Victimas_Totales'].mean())\n",
    "print(\"El promedio de víctimas en KY es de:\",KY['Victimas_Totales'].mean())\n",
    "print(\"El promedio de víctimas en LA es de:\",LA['Victimas_Totales'].mean())\n",
    "print(\"El promedio de víctimas en MA es de:\",MA['Victimas_Totales'].mean())\n",
    "print(\"El promedio de víctimas en MD es de:\",MD['Victimas_Totales'].mean())\n",
    "print(\"El promedio de víctimas en ME es de:\",ME['Victimas_Totales'].mean())\n",
    "print(\"El promedio de víctimas en MI es de:\",MI['Victimas_Totales'].mean())\n",
    "print(\"El promedio de víctimas en MN es de:\",MN['Victimas_Totales'].mean())\n",
    "print(\"El promedio de víctimas en MO es de:\",MO['Victimas_Totales'].mean())\n",
    "print(\"El promedio de víctimas en MS es de:\",MS['Victimas_Totales'].mean())\n",
    "print(\"El promedio de víctimas en MT es de:\",MT['Victimas_Totales'].mean())\n",
    "print(\"El promedio de víctimas en NC es de:\",NC['Victimas_Totales'].mean())\n",
    "print(\"El promedio de víctimas en NE es de:\",NE['Victimas_Totales'].mean())\n",
    "print(\"El promedio de víctimas en NJ es de:\",NJ['Victimas_Totales'].mean())\n",
    "print(\"El promedio de víctimas en NM es de:\",NM['Victimas_Totales'].mean())\n",
    "print(\"El promedio de víctimas en NV es de:\",NV['Victimas_Totales'].mean())\n",
    "print(\"El promedio de víctimas en NY es de:\",NY['Victimas_Totales'].mean())\n",
    "print(\"El promedio de víctimas en OH es de:\",OH['Victimas_Totales'].mean())\n",
    "print(\"El promedio de víctimas en OK es de:\",OK['Victimas_Totales'].mean())\n",
    "print(\"El promedio de víctimas en OR es de:\",OR['Victimas_Totales'].mean())\n",
    "print(\"El promedio de víctimas en PA es de:\",PA['Victimas_Totales'].mean())\n",
    "print(\"El promedio de víctimas en SC es de:\",SC['Victimas_Totales'].mean())\n",
    "print(\"El promedio de víctimas en SD es de:\",SD['Victimas_Totales'].mean())\n",
    "print(\"El promedio de víctimas en TN es de:\",TN['Victimas_Totales'].mean())\n",
    "print(\"El promedio de víctimas en TX es de:\",TX['Victimas_Totales'].mean())\n",
    "print(\"El promedio de víctimas en UT es de:\",UT['Victimas_Totales'].mean())\n",
    "print(\"El promedio de víctimas en VA es de:\",VA['Victimas_Totales'].mean())\n",
    "print(\"El promedio de víctimas en VT es de:\",VT['Victimas_Totales'].mean())\n",
    "print(\"El promedio de víctimas en WA es de:\",WA['Victimas_Totales'].mean())\n",
    "print(\"El promedio de víctimas en WI es de:\",WI['Victimas_Totales'].mean())\n",
    "print(\"El promedio de víctimas en WV es de:\",WV['Victimas_Totales'].mean())\n",
    "print(\"El promedio de víctimas en WY es de:\",WY['Victimas_Totales'].mean())"
   ]
  },
  {
   "cell_type": "markdown",
   "metadata": {},
   "source": [
    "<i> b) Explicación </i>  \n",
    "Para nuestro objetivo principal decidimos calcular las proporciones para conocer más sobre la salud mental de los responsables de los tiroteos y ver si de alguna forma esto nos ayuda a llegar a nuestro objetivo. Además, para el objetivo secundario quisimos saber el número total de víctimas por estado y con esto, calcular el promedio por entidad así como el promedio de víctimas totales de Estados Unidos de América para compararlos y ver si el promedio de algún estado es cercano o mayor al del país."
   ]
  },
  {
   "cell_type": "markdown",
   "metadata": {},
   "source": [
    "<b> 3. Gráficas </b>"
   ]
  },
  {
   "cell_type": "markdown",
   "metadata": {},
   "source": [
    "<i> a. Objetivo principal </i>"
   ]
  },
  {
   "cell_type": "code",
   "execution_count": 257,
   "metadata": {},
   "outputs": [],
   "source": [
    "import matplotlib.pyplot as plt"
   ]
  },
  {
   "cell_type": "code",
   "execution_count": 307,
   "metadata": {},
   "outputs": [
    {
     "data": {
      "text/plain": [
       "Text(0.5, 1.0, 'Problemas de Salud Mental')"
      ]
     },
     "execution_count": 307,
     "metadata": {},
     "output_type": "execute_result"
    },
    {
     "data": {
      "image/png": "[encoded data removed]",
      "text/plain": [
       "<Figure size 432x288 with 1 Axes>"
      ]
     },
     "metadata": {
      "needs_background": "light"
     },
     "output_type": "display_data"
    }
   ],
   "source": [
    "sns.countplot(msn['Problemas_de_Salud_Mental'])\n",
    "plt.title(\"Problemas de Salud Mental\")"
   ]
  },
  {
   "cell_type": "markdown",
   "metadata": {},
   "source": [
    "En la gráfica anterior podemos observar que un gran número de casos corresponden a personas con problemas de salud mental, pero es mayor la suma de casos que se presentan por personas con diagnóstico desconocido, poco claro y aquellos que no tienen problemas mentales."
   ]
  },
  {
   "cell_type": "code",
   "execution_count": 267,
   "metadata": {},
   "outputs": [
    {
     "data": {
      "image/png": "[encoded data removed]",
      "text/plain": [
       "<Figure size 432x288 with 1 Axes>"
      ]
     },
     "metadata": {},
     "output_type": "display_data"
    }
   ],
   "source": [
    "psm=[msn['Sanos'].mean(),msn['Enfermos'].mean(),len(UC)/len(msn),len(UK)/len(msn)]\n",
    "nombres=[\"No\",\"Si\",\"No claro\",\"Desconocido\"]\n",
    "plt.pie(psm,labels=nombres,autopct=\"%0.1f %%\")\n",
    "plt.title(\"Problemas de Salud Mental\")\n",
    "plt.show()"
   ]
  },
  {
   "cell_type": "markdown",
   "metadata": {},
   "source": [
    "En la gráfica anterior se presentan los porcentajes de diagnósticos de problemas de salud mental, lo que complementa nuestra gráfica pasada."
   ]
  },
  {
   "cell_type": "markdown",
   "metadata": {},
   "source": [
    "<i> b. Objetivo secundario </i>"
   ]
  },
  {
   "cell_type": "code",
   "execution_count": 315,
   "metadata": {},
   "outputs": [
    {
     "data": {
      "text/plain": [
       "<seaborn.axisgrid.JointGrid at 0x24151c7f888>"
      ]
     },
     "execution_count": 315,
     "metadata": {},
     "output_type": "execute_result"
    },
    {
     "data": {
      "image/png": "[encoded data removed]",
      "text/plain": [
       "<Figure size 432x432 with 3 Axes>"
      ]
     },
     "metadata": {
      "needs_background": "light"
     },
     "output_type": "display_data"
    }
   ],
   "source": [
    "import seaborn as sns\n",
    "sns.jointplot(x='Estrictos', y='Victimas_Totales', data=msn[msn['Victimas_Totales'] < 20], kind='hex', gridsize=20)"
   ]
  },
  {
   "cell_type": "markdown",
   "metadata": {},
   "source": [
    "En esta gráfica observamos que hay mayor frecuencia en las intersección de los estados no estrictos con un total de número de víctimas totales que van desde 3 a 10 víctimas."
   ]
  },
  {
   "cell_type": "code",
   "execution_count": 303,
   "metadata": {},
   "outputs": [
    {
     "data": {
      "text/plain": [
       "Text(0.5, 1, 'Estrictos vs Víctimas Totales')"
      ]
     },
     "execution_count": 303,
     "metadata": {},
     "output_type": "execute_result"
    },
    {
     "data": {
      "image/png": "[encoded data removed]",
      "text/plain": [
       "<Figure size 501.875x432 with 1 Axes>"
      ]
     },
     "metadata": {
      "needs_background": "light"
     },
     "output_type": "display_data"
    }
   ],
   "source": [
    "sns.relplot(x=\"Estrictos\", y=\"Victimas_Totales\", hue=\"Estado\", alpha=0.5, palette=\"bright\",height=6, data=msn)\n",
    "plt.title('Estrictos vs Víctimas Totales',size=16)"
   ]
  },
  {
   "cell_type": "markdown",
   "metadata": {},
   "source": [
    "Complementando los resultados de la gráfica anterior, tomando todo el rango de víctimas totales e identificando los estados, se confirma que el número de víctimas totales es mayor en aquellos estados en los que no son muy estrictos en cuanto a las normas de uso de armas comparándolo con los estados que si son estrictos. Nos llamó la atención que se observa un outlier cerca del valor 600, que corresponde a las 599 víctimas del estado de Nevada, por lo que nos interesa investigar más sobre la historia de los tiroteos en este estado."
   ]
  },
  {
   "cell_type": "markdown",
   "metadata": {},
   "source": [
    "### Conclusión"
   ]
  },
  {
   "cell_type": "markdown",
   "metadata": {},
   "source": [
    "Según el análisis previo y los resultados obtenidos, nos damos cuenta que nos estamos acercando a alcanzar nuestro objetivo. Consideramos que aún se puede profundizar más con ayuda de técnicas de minería de datos que nos ayudarán a tener más seguridad respecto a lo que nos propusimos alcanzar en este estudio."
   ]
  }
 ],
 "metadata": {
  "kernelspec": {
   "display_name": "Python 3",
   "language": "python",
   "name": "python3"
  },
  "language_info": {
   "codemirror_mode": {
    "name": "ipython",
    "version": 3
   },
   "file_extension": ".py",
   "mimetype": "text/x-python",
   "name": "python",
   "nbconvert_exporter": "python",
   "pygments_lexer": "ipython3",
   "version": "3.7.6"
  }
 },
 "nbformat": 4,
 "nbformat_minor": 4
}
