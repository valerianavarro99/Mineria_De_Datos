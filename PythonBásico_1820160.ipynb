{
 "cells": [
  {
   "cell_type": "markdown",
   "metadata": {},
   "source": [
    "## Ejercicio 1\n",
    "Realiza una variable con tu matricula y realiza una secuencia de imprimir con tu nombre y matrícula concatenados"
   ]
  },
  {
   "cell_type": "code",
   "execution_count": 5,
   "metadata": {},
   "outputs": [
    {
     "name": "stdout",
     "output_type": "stream",
     "text": [
      "Valeria Nohemí Navarro Cabello 1820160\n"
     ]
    }
   ],
   "source": [
    "m=1820160\n",
    "print(\"Valeria Nohemí Navarro Cabello\", m)"
   ]
  },
  {
   "cell_type": "markdown",
   "metadata": {},
   "source": [
    "## Ejercicio 2\n",
    "Pidiendo el input del usuario pide dos números y crea una pequeña calculadora con los operadores básicos de suma, resta, multiplicación, división, y exponente."
   ]
  },
  {
   "cell_type": "code",
   "execution_count": 9,
   "metadata": {},
   "outputs": [
    {
     "name": "stdout",
     "output_type": "stream",
     "text": [
      "Introduce un número: 2\n",
      "Introduce otro número: 3\n",
      "Suma:  5\n",
      "Resta:  -1\n",
      "Multiplicación:  6\n",
      "División:  0.6666666666666666\n",
      "Exponente:  8\n"
     ]
    }
   ],
   "source": [
    "n1= int(input(\"Introduce un número: \"))\n",
    "n2= int(input(\"Introduce otro número: \"))\n",
    "\n",
    "print (\"Suma: \", n1+n2)\n",
    "print(\"Resta: \", n1-n2)\n",
    "print(\"Multiplicación: \", n1*n2)\n",
    "print(\"División: \", n1/n2)\n",
    "print(\"Exponente: \", n1**n2)\n"
   ]
  },
  {
   "cell_type": "markdown",
   "metadata": {},
   "source": [
    "## Ejercicio 3\n",
    "Con loop while o for, realiza una lista de 10 numeros multiplos de 3, y después realiza una función de loop que sume todos los números dentro del arreglo.\n",
    "\n"
   ]
  },
  {
   "cell_type": "code",
   "execution_count": 5,
   "metadata": {},
   "outputs": [
    {
     "name": "stdout",
     "output_type": "stream",
     "text": [
      "3\n",
      "6\n",
      "9\n",
      "12\n",
      "15\n",
      "18\n",
      "21\n",
      "24\n",
      "27\n",
      "30\n",
      "La suma es: 165\n"
     ]
    }
   ],
   "source": [
    "i=1\n",
    "Suma= 0 \n",
    "while i <= 10:\n",
    "    n= i*3\n",
    "    print (n)\n",
    "    Suma= Suma +n\n",
    "    i=i+1\n",
    "print (\"La suma es:\", Suma)"
   ]
  },
  {
   "cell_type": "markdown",
   "metadata": {},
   "source": [
    "## Ejercicio 4\n",
    "-Con una función de if else, revisar si un número es par o es impar.\n",
    "-Con una función de if else, revisar si un número es primo o no."
   ]
  },
  {
   "cell_type": "code",
   "execution_count": 5,
   "metadata": {},
   "outputs": [
    {
     "name": "stdout",
     "output_type": "stream",
     "text": [
      "Introduce un número: 6\n",
      "El número 6 es par\n"
     ]
    }
   ],
   "source": [
    "a = int(input(\"Introduce un número: \"))\n",
    "\n",
    "if  a%2==0 : \n",
    "    print (\"El número\", a, \"es par\")\n",
    "else:\n",
    "    print (\"Elnúmero\", a, \"es impar\")"
   ]
  },
  {
   "cell_type": "code",
   "execution_count": 10,
   "metadata": {},
   "outputs": [
    {
     "name": "stdout",
     "output_type": "stream",
     "text": [
      "Introduce un número: 5\n",
      "El número  5  es primo\n"
     ]
    }
   ],
   "source": [
    "b=int(input(\"Introduce un número: \"))\n",
    "p=0\n",
    "for i in range(2,b):\n",
    "    if b%i!=0:\n",
    "        continue\n",
    "    else:\n",
    "        p=p+1\n",
    "        break\n",
    "if p>0:\n",
    "    print(\"El número \", b, \" no es primo\")\n",
    "else:\n",
    "    print(\"El número \", b, \" es primo\")\n"
   ]
  },
  {
   "cell_type": "markdown",
   "metadata": {},
   "source": [
    "## Ejercicio 5\n",
    "Utilizando diferentes clases en python, crea una calculadora con los operadores básicos de suma, resta, multiplicación, división, y exponente."
   ]
  },
  {
   "cell_type": "code",
   "execution_count": 12,
   "metadata": {},
   "outputs": [
    {
     "name": "stdout",
     "output_type": "stream",
     "text": [
      "Ingresa un número: 10\n",
      "Ingresa un segundo número: 5\n",
      "Suma:  15\n",
      "Resta:  5\n",
      "Multiplicación:  50\n",
      "División:  2.0\n",
      "Exponente:  100000\n"
     ]
    }
   ],
   "source": [
    "def Suma(a,b):\n",
    "    c=a+b\n",
    "    return c\n",
    "def Resta(a,b):\n",
    "    c=a-b\n",
    "    return c\n",
    "def Multiplicación(a,b):\n",
    "    c=a*b\n",
    "    return c\n",
    "def División(a,b):\n",
    "    c=a/b\n",
    "    return c\n",
    "def Exponente(a,b):\n",
    "    c=a**b\n",
    "    return c\n",
    "x=int(input(\"Ingresa un número: \"))\n",
    "y=int(input(\"Ingresa un segundo número: \"))\n",
    "print(\"Suma: \", Suma(x,y))\n",
    "print(\"Resta: \", Resta(x,y))\n",
    "print(\"Multiplicación: \", Multiplicación(x,y))\n",
    "print(\"División: \", División(x,y))\n",
    "print(\"Exponente: \", Exponente(x,y))"
   ]
  },
  {
   "cell_type": "markdown",
   "metadata": {},
   "source": [
    "## Ejercicios con estructuras básicas de python\n",
    "\n",
    "## Tuplas\n",
    "Crear una variable flotante, integer, boleana y compleja e imprimir el tipo de variable que es."
   ]
  },
  {
   "cell_type": "code",
   "execution_count": 13,
   "metadata": {},
   "outputs": [
    {
     "name": "stdout",
     "output_type": "stream",
     "text": [
      "La variable f = 7.4 es de tipo: <class 'float'>\n",
      "La variable i = 9 es de tipo: <class 'int'>\n",
      "La variable b = False es de tipo: <class 'bool'>\n",
      "La variable c = 1j es de tipo: <class 'complex'>\n"
     ]
    }
   ],
   "source": [
    "f = 7.4\n",
    "print(\"La variable f =\",f,\"es de tipo:\", type(f))\n",
    "i = 9\n",
    "print(\"La variable i =\",i,\"es de tipo:\", type(i))\n",
    "b = False  \n",
    "print(\"La variable b =\",b,\"es de tipo:\", type(b))\n",
    "c= 1j\n",
    "print(\"La variable c =\",c,\"es de tipo:\", type(c))"
   ]
  },
  {
   "cell_type": "markdown",
   "metadata": {},
   "source": [
    "Crear una tupla con valores enteros imprimir el primer y ultimo valor."
   ]
  },
  {
   "cell_type": "code",
   "execution_count": 29,
   "metadata": {},
   "outputs": [
    {
     "name": "stdout",
     "output_type": "stream",
     "text": [
      "Primer número de la tupla: 2\n",
      "Último número de la tupla: 1\n"
     ]
    }
   ],
   "source": [
    "t = (2,1,8,6,1)\n",
    "\n",
    "print(\"Primer número de la tupla:\",t[0])\n",
    "print(\"Último número de la tupla:\",t[4])"
   ]
  },
  {
   "cell_type": "markdown",
   "metadata": {},
   "source": [
    "Añadir 3 valores de string a la tupla."
   ]
  },
  {
   "cell_type": "code",
   "execution_count": 30,
   "metadata": {},
   "outputs": [
    {
     "data": {
      "text/plain": [
       "(2, 1, 8, 6, 1, 'a', 'b', 'c')"
      ]
     },
     "execution_count": 30,
     "metadata": {},
     "output_type": "execute_result"
    }
   ],
   "source": [
    "t = t.__add__((\"a\",\"b\",\"c\",))\n",
    "t"
   ]
  },
  {
   "cell_type": "markdown",
   "metadata": {},
   "source": [
    "Verificar si una variable existe dentro de la tupla."
   ]
  },
  {
   "cell_type": "code",
   "execution_count": 32,
   "metadata": {},
   "outputs": [
    {
     "data": {
      "text/plain": [
       "True"
      ]
     },
     "execution_count": 32,
     "metadata": {},
     "output_type": "execute_result"
    }
   ],
   "source": [
    "1 in t"
   ]
  },
  {
   "cell_type": "markdown",
   "metadata": {},
   "source": [
    "## Listas\n",
    "Crear una lista con 40 elementos aleatorios enteros."
   ]
  },
  {
   "cell_type": "code",
   "execution_count": 39,
   "metadata": {},
   "outputs": [
    {
     "name": "stdout",
     "output_type": "stream",
     "text": [
      "[35, 17, 95, 5, 59, 8, 14, 53, 79, 89, 63, 49, 6, 47, 70, 80, 7, 50, 37, 69, 25, 28, 57, 11, 85, 26, 74, 13, 92, 3, 68, 22, 72, 36, 43, 23, 0, 75, 97, 82]\n"
     ]
    }
   ],
   "source": [
    "import random as r \n",
    "aleat= range(0,100)\n",
    "aleat=r.sample(aleat, 40)\n",
    "print (aleat)"
   ]
  },
  {
   "cell_type": "markdown",
   "metadata": {},
   "source": [
    "Con una funcion (def) crear dos listas nuevas a partir de la lista creada por numeros aleatorios, en la cual en una esten los elementos pares, y en la otra los elementos impares."
   ]
  },
  {
   "cell_type": "code",
   "execution_count": 41,
   "metadata": {},
   "outputs": [
    {
     "name": "stdout",
     "output_type": "stream",
     "text": [
      "Lista de pares [8, 14, 6, 70, 80, 50, 28, 26, 74, 92, 68, 22, 72, 36, 0, 82]\n",
      "Lista de impares [35, 17, 95, 5, 59, 53, 79, 89, 63, 49, 47, 7, 37, 69, 25, 57, 11, 85, 13, 3, 43, 23, 75, 97]\n"
     ]
    }
   ],
   "source": [
    "lp=[]\n",
    "limp=[]\n",
    "def listapi(aleat,lp, limp):\n",
    "    for i in range(0,40):\n",
    "        n = aleat[i]\n",
    "        if n%2==0:\n",
    "            lp.append(n)\n",
    "        else:\n",
    "            limp.append(n)\n",
    "    lpar=lp\n",
    "    limpar=limp\n",
    "\n",
    "listapi(aleat, lp, limp)\n",
    "print(\"Lista de pares\", lp)\n",
    "print(\"Lista de impares\", limp)"
   ]
  },
  {
   "cell_type": "markdown",
   "metadata": {},
   "source": [
    "Crear dos variables con la longitud de ambas listas nuevas e imprimir las variables."
   ]
  },
  {
   "cell_type": "code",
   "execution_count": 42,
   "metadata": {},
   "outputs": [
    {
     "name": "stdout",
     "output_type": "stream",
     "text": [
      "La longitud de la lista de pares es:  16\n",
      "La longitud de la lista de impares es:  24\n"
     ]
    }
   ],
   "source": [
    "longp=len(lp)\n",
    "longimp= len(limp)\n",
    "print(\"La longitud de la lista de pares es: \", longp)\n",
    "print(\"La longitud de la lista de impares es: \", longimp)\n"
   ]
  },
  {
   "cell_type": "markdown",
   "metadata": {},
   "source": [
    "Ordenar los elementos de la lista par de mayor a menor, y los de la lista impar de menor a mayor."
   ]
  },
  {
   "cell_type": "code",
   "execution_count": 44,
   "metadata": {},
   "outputs": [
    {
     "name": "stdout",
     "output_type": "stream",
     "text": [
      "Lista de pares ordenada de mayor a menor:  [92, 82, 80, 74, 72, 70, 68, 50, 36, 28, 26, 22, 14, 8, 6, 0]\n",
      "Lista de pares ordenada de menor a mayor:  [3, 5, 7, 11, 13, 17, 23, 25, 35, 37, 43, 47, 49, 53, 57, 59, 63, 69, 75, 79, 85, 89, 95, 97]\n"
     ]
    }
   ],
   "source": [
    "lp.sort(reverse=True)\n",
    "print(\"Lista de pares ordenada de mayor a menor: \", lp)\n",
    "limp.sort()\n",
    "print(\"Lista de pares ordenada de menor a mayor: \", limp)"
   ]
  },
  {
   "cell_type": "markdown",
   "metadata": {},
   "source": [
    "Utilizar al menos cuatro de las funciones de listas en python en la lista original de 40 elementos."
   ]
  },
  {
   "cell_type": "code",
   "execution_count": 52,
   "metadata": {},
   "outputs": [
    {
     "name": "stdout",
     "output_type": "stream",
     "text": [
      "La lista de manera inversa es:  [92, 92, 92, 82, 97, 75, 0, 23, 43, 36, 72, 22, 68, 3, 92, 13, 74, 26, 85, 11, 57, 28, 25, 69, 37, 50, 7, 80, 70, 47, 6, 49, 63, 89, 79, 53, 14, 8, 59, 5, 95, 17, 35, 92, 92]\n"
     ]
    }
   ],
   "source": [
    "aleat.reverse()\n",
    "print(\"La lista de manera inversa es: \", aleat)\n"
   ]
  },
  {
   "cell_type": "code",
   "execution_count": 53,
   "metadata": {},
   "outputs": [
    {
     "name": "stdout",
     "output_type": "stream",
     "text": [
      "La lista con un dato agregado es:  [92, 92, 92, 82, 97, 75, 0, 23, 43, 36, 72, 22, 68, 3, 92, 13, 74, 26, 85, 11, 57, 28, 25, 69, 37, 50, 7, 80, 70, 47, 6, 49, 63, 89, 79, 53, 14, 8, 59, 5, 95, 17, 35, 92, 92, 92]\n"
     ]
    }
   ],
   "source": [
    "aleat.append(92)\n",
    "print(\"La lista con un dato agregado es: \", aleat)"
   ]
  },
  {
   "cell_type": "code",
   "execution_count": 54,
   "metadata": {},
   "outputs": [
    {
     "name": "stdout",
     "output_type": "stream",
     "text": [
      "El número 3 se repite  1 vez\n"
     ]
    }
   ],
   "source": [
    "aleat.count(3)\n",
    "print(\"El número 3 se repite \", aleat.count(3), \"vez\")"
   ]
  },
  {
   "cell_type": "code",
   "execution_count": 58,
   "metadata": {},
   "outputs": [
    {
     "name": "stdout",
     "output_type": "stream",
     "text": [
      "La lista extendida es:  [92, 92, 92, 82, 97, 75, 0, 23, 43, 36, 72, 22, 68, 3, 92, 13, 74, 26, 85, 11, 57, 28, 25, 69, 37, 50, 7, 80, 70, 47, 6, 49, 63, 89, 79, 53, 14, 8, 59, 5, 95, 17, 35, 92, 92, 92, 9, 36, 10]\n"
     ]
    }
   ],
   "source": [
    "aleat.extend([9,36,10])\n",
    "print(\"La lista extendida es: \", aleat)"
   ]
  },
  {
   "cell_type": "markdown",
   "metadata": {},
   "source": [
    "## Diccionarios\n",
    "Crear un diccionario de 6 personas que conozcas con su primer nombre y su edad."
   ]
  },
  {
   "cell_type": "code",
   "execution_count": 61,
   "metadata": {},
   "outputs": [
    {
     "data": {
      "text/plain": [
       "{'Valeria': 20,\n",
       " 'Rafael': 58,\n",
       " 'Sandra': 29,\n",
       " 'Emanuel': 21,\n",
       " 'Victoria': 15,\n",
       " 'Erika': 25}"
      ]
     },
     "execution_count": 61,
     "metadata": {},
     "output_type": "execute_result"
    }
   ],
   "source": [
    "dicc={'Valeria': 20, 'Rafael': 58, 'Sandra': 29, 'Emanuel': 21, 'Victoria': 15, \"Erika\": 25}\n",
    "dicc"
   ]
  },
  {
   "cell_type": "markdown",
   "metadata": {},
   "source": [
    "Crear una lista con los valores de la edad y reacomodar la lista de menor a mayor valor."
   ]
  },
  {
   "cell_type": "code",
   "execution_count": 62,
   "metadata": {},
   "outputs": [
    {
     "data": {
      "text/plain": [
       "[15, 20, 21, 25, 29, 58]"
      ]
     },
     "execution_count": 62,
     "metadata": {},
     "output_type": "execute_result"
    }
   ],
   "source": [
    "sorted(dicc.values())"
   ]
  },
  {
   "cell_type": "markdown",
   "metadata": {},
   "source": [
    "Usando el diccionario y un loop, imprimir solo los nombres."
   ]
  },
  {
   "cell_type": "code",
   "execution_count": 64,
   "metadata": {},
   "outputs": [
    {
     "name": "stdout",
     "output_type": "stream",
     "text": [
      "Valeria\n",
      "Rafael\n",
      "Sandra\n",
      "Emanuel\n",
      "Victoria\n",
      "Erika\n"
     ]
    }
   ],
   "source": [
    "for i in dicc:\n",
    "    print(i)"
   ]
  },
  {
   "cell_type": "markdown",
   "metadata": {},
   "source": [
    "Añadir dos personas nuevas a tu diccionario, incluyendo edad."
   ]
  },
  {
   "cell_type": "code",
   "execution_count": 65,
   "metadata": {},
   "outputs": [
    {
     "name": "stdout",
     "output_type": "stream",
     "text": [
      "{'Valeria': 20, 'Rafael': 58, 'Sandra': 29, 'Emanuel': 21, 'Victoria': 15, 'Erika': 25, 'Francisco': 33, 'Yolanda': 54}\n"
     ]
    }
   ],
   "source": [
    "dicc[\"Francisco\"]=33\n",
    "dicc[\"Yolanda\"]=54\n",
    "print(dicc)"
   ]
  },
  {
   "cell_type": "markdown",
   "metadata": {},
   "source": [
    "## Sets\n",
    "Crea un set con 100 numeros aleatorios enteros del 1 al 25."
   ]
  },
  {
   "cell_type": "code",
   "execution_count": 68,
   "metadata": {},
   "outputs": [
    {
     "name": "stdout",
     "output_type": "stream",
     "text": [
      "{1, 2, 3, 4, 5, 6, 7, 8, 9, 10, 11, 12, 13, 14, 15, 16, 17, 18, 19, 20, 21, 22, 23, 24, 25}\n"
     ]
    }
   ],
   "source": [
    "import random\n",
    "s={random.randint(1,25)}\n",
    "for i in range(0,99):\n",
    "    s.add(random.randint(1,25))\n",
    "\n",
    "print(s)"
   ]
  },
  {
   "cell_type": "markdown",
   "metadata": {},
   "source": [
    "Comprueba la longitud de tu set."
   ]
  },
  {
   "cell_type": "code",
   "execution_count": 69,
   "metadata": {},
   "outputs": [
    {
     "data": {
      "text/plain": [
       "25"
      ]
     },
     "execution_count": 69,
     "metadata": {},
     "output_type": "execute_result"
    }
   ],
   "source": [
    "len(s)"
   ]
  },
  {
   "cell_type": "markdown",
   "metadata": {},
   "source": [
    "Crea una lista de 5 numeros aleatorios del 1 al 10 y comprueba si cada valor aparece en el set inicial."
   ]
  },
  {
   "cell_type": "code",
   "execution_count": 76,
   "metadata": {},
   "outputs": [
    {
     "name": "stdout",
     "output_type": "stream",
     "text": [
      "[10, 8, 4, 9, 3]\n",
      "El número 10 se encuentra en la serie\n",
      "True\n",
      "El número 8 se encuentra en la serie\n",
      "True\n",
      "El número 4 se encuentra en la serie\n",
      "True\n",
      "El número 9 se encuentra en la serie\n",
      "True\n",
      "El número 3 se encuentra en la serie\n",
      "True\n"
     ]
    }
   ],
   "source": [
    "A=[1, 2, 3, 4, 5, 6, 7, 8, 9, 10]\n",
    "al=(r.sample(A, 5))\n",
    "print(al)\n",
    "for i in range (5):\n",
    "    print(\"El número\", al[i],\"se encuentra en la serie\")\n",
    "    print(al[i] in s)\n",
    "    "
   ]
  },
  {
   "cell_type": "code",
   "execution_count": null,
   "metadata": {},
   "outputs": [],
   "source": []
  }
 ],
 "metadata": {
  "kernelspec": {
   "display_name": "Python 3",
   "language": "python",
   "name": "python3"
  },
  "language_info": {
   "codemirror_mode": {
    "name": "ipython",
    "version": 3
   },
   "file_extension": ".py",
   "mimetype": "text/x-python",
   "name": "python",
   "nbconvert_exporter": "python",
   "pygments_lexer": "ipython3",
   "version": "3.8.3"
  }
 },
 "nbformat": 4,
 "nbformat_minor": 4
}
